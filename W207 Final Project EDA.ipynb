{
 "cells": [
  {
   "cell_type": "markdown",
   "metadata": {},
   "source": [
    "# MIDS W207 Fall 2017 Final Project¶\n",
    "## Exploratory Data Analysis\n",
    "Laura Williams, Kim Vignola, Cyprian Gascoigne  \n",
    "SF Crime Classification"
   ]
  },
  {
   "cell_type": "markdown",
   "metadata": {},
   "source": [
    "This notebook comprises the Exploratory Data Analysis that will inform data set up and modeling decisions. Recommendations based on this EDA include:\n",
    "* adding buckets for month, holidays, and dayparts\n",
    "* assessing inclusion of day of month, especially the 1st of the month \n",
    "* reassigning cases with latitude > 38 to a latitude based on district\n",
    "* addressing the year 2015 as we only have data through May\n",
    "* expanding the definition of holidays to include holiday weeks/weekends and eve's"
   ]
  },
  {
   "cell_type": "code",
   "execution_count": 96,
   "metadata": {
    "collapsed": true
   },
   "outputs": [],
   "source": [
    "import numpy as np\n",
    "import pandas as pd\n",
    "from sklearn import preprocessing\n",
    "import zipfile"
   ]
  },
  {
   "cell_type": "code",
   "execution_count": 3,
   "metadata": {
    "collapsed": true
   },
   "outputs": [],
   "source": [
    "# Unzip raw data into a subdirectory \n",
    "unzip_files = zipfile.ZipFile(\"raw_data.zip\", \"r\")\n",
    "unzip_files.extractall(\"raw_data\")\n",
    "unzip_files.close()"
   ]
  },
  {
   "cell_type": "code",
   "execution_count": 4,
   "metadata": {
    "collapsed": true
   },
   "outputs": [],
   "source": [
    "# Read CSV files into pandas dataframes\n",
    "train = pd.read_csv(\"raw_data/train.csv\")\n",
    "test = pd.read_csv(\"raw_data/test.csv\")\n",
    "weather = pd.read_csv(\"raw_data/SF_county.csv\")"
   ]
  },
  {
   "cell_type": "code",
   "execution_count": 7,
   "metadata": {},
   "outputs": [
    {
     "name": "stdout",
     "output_type": "stream",
     "text": [
      "Dates          object\n",
      "Category       object\n",
      "Descript       object\n",
      "DayOfWeek      object\n",
      "PdDistrict     object\n",
      "Resolution     object\n",
      "Address        object\n",
      "X             float64\n",
      "Y             float64\n",
      "dtype: object\n"
     ]
    }
   ],
   "source": [
    "# Most of the fields in the training dataset need to be transformed to numerical values.\n",
    "print(train.dtypes)"
   ]
  },
  {
   "cell_type": "code",
   "execution_count": 8,
   "metadata": {},
   "outputs": [
    {
     "data": {
      "text/html": [
       "<div>\n",
       "<style>\n",
       "    .dataframe thead tr:only-child th {\n",
       "        text-align: right;\n",
       "    }\n",
       "\n",
       "    .dataframe thead th {\n",
       "        text-align: left;\n",
       "    }\n",
       "\n",
       "    .dataframe tbody tr th {\n",
       "        vertical-align: top;\n",
       "    }\n",
       "</style>\n",
       "<table border=\"1\" class=\"dataframe\">\n",
       "  <thead>\n",
       "    <tr style=\"text-align: right;\">\n",
       "      <th></th>\n",
       "      <th>X</th>\n",
       "      <th>Y</th>\n",
       "    </tr>\n",
       "  </thead>\n",
       "  <tbody>\n",
       "    <tr>\n",
       "      <th>count</th>\n",
       "      <td>878049.000000</td>\n",
       "      <td>878049.000000</td>\n",
       "    </tr>\n",
       "    <tr>\n",
       "      <th>mean</th>\n",
       "      <td>-122.422616</td>\n",
       "      <td>37.771020</td>\n",
       "    </tr>\n",
       "    <tr>\n",
       "      <th>std</th>\n",
       "      <td>0.030354</td>\n",
       "      <td>0.456893</td>\n",
       "    </tr>\n",
       "    <tr>\n",
       "      <th>min</th>\n",
       "      <td>-122.513642</td>\n",
       "      <td>37.707879</td>\n",
       "    </tr>\n",
       "    <tr>\n",
       "      <th>25%</th>\n",
       "      <td>-122.432952</td>\n",
       "      <td>37.752427</td>\n",
       "    </tr>\n",
       "    <tr>\n",
       "      <th>50%</th>\n",
       "      <td>-122.416420</td>\n",
       "      <td>37.775421</td>\n",
       "    </tr>\n",
       "    <tr>\n",
       "      <th>75%</th>\n",
       "      <td>-122.406959</td>\n",
       "      <td>37.784369</td>\n",
       "    </tr>\n",
       "    <tr>\n",
       "      <th>max</th>\n",
       "      <td>-120.500000</td>\n",
       "      <td>90.000000</td>\n",
       "    </tr>\n",
       "  </tbody>\n",
       "</table>\n",
       "</div>"
      ],
      "text/plain": [
       "                   X              Y\n",
       "count  878049.000000  878049.000000\n",
       "mean     -122.422616      37.771020\n",
       "std         0.030354       0.456893\n",
       "min      -122.513642      37.707879\n",
       "25%      -122.432952      37.752427\n",
       "50%      -122.416420      37.775421\n",
       "75%      -122.406959      37.784369\n",
       "max      -120.500000      90.000000"
      ]
     },
     "execution_count": 8,
     "metadata": {},
     "output_type": "execute_result"
    }
   ],
   "source": [
    "# The dataset contains erroneous data, with maximum latitude registering 90 degrees (at The North Pole).\n",
    "train.describe()"
   ]
  },
  {
   "cell_type": "code",
   "execution_count": 26,
   "metadata": {},
   "outputs": [
    {
     "name": "stdout",
     "output_type": "stream",
     "text": [
      "67\n"
     ]
    }
   ],
   "source": [
    "# The number of erroneous Y values is small, but the magnitude of difference is large and could create noise \n",
    "# in the data. To fix this we will reassess Lat/Long for these cases based on Districts.\n",
    "print(len(train.loc[train['Y'] > 40]))"
   ]
  },
  {
   "cell_type": "code",
   "execution_count": 33,
   "metadata": {},
   "outputs": [
    {
     "data": {
      "text/plain": [
       "SOUTHERN      157182\n",
       "MISSION       119908\n",
       "NORTHERN      105296\n",
       "BAYVIEW        89431\n",
       "CENTRAL        85460\n",
       "TENDERLOIN     81809\n",
       "INGLESIDE      78845\n",
       "TARAVAL        65596\n",
       "PARK           49313\n",
       "RICHMOND       45209\n",
       "Name: PdDistrict, dtype: int64"
      ]
     },
     "execution_count": 33,
     "metadata": {},
     "output_type": "execute_result"
    }
   ],
   "source": [
    "# The Southern, Northern and Mission Districts have the highest overall crime rates.\n",
    "train[\"PdDistrict\"].value_counts()"
   ]
  },
  {
   "cell_type": "code",
   "execution_count": 71,
   "metadata": {
    "scrolled": true
   },
   "outputs": [
    {
     "data": {
      "text/plain": [
       "LARCENY/THEFT                  174900\n",
       "OTHER OFFENSES                 126182\n",
       "NON-CRIMINAL                    92304\n",
       "ASSAULT                         76876\n",
       "DRUG/NARCOTIC                   53971\n",
       "VEHICLE THEFT                   53781\n",
       "VANDALISM                       44725\n",
       "WARRANTS                        42214\n",
       "BURGLARY                        36755\n",
       "SUSPICIOUS OCC                  31414\n",
       "MISSING PERSON                  25989\n",
       "ROBBERY                         23000\n",
       "FRAUD                           16679\n",
       "FORGERY/COUNTERFEITING          10609\n",
       "SECONDARY CODES                  9985\n",
       "WEAPON LAWS                      8555\n",
       "PROSTITUTION                     7484\n",
       "TRESPASS                         7326\n",
       "STOLEN PROPERTY                  4540\n",
       "SEX OFFENSES FORCIBLE            4388\n",
       "DISORDERLY CONDUCT               4320\n",
       "DRUNKENNESS                      4280\n",
       "RECOVERED VEHICLE                3138\n",
       "KIDNAPPING                       2341\n",
       "DRIVING UNDER THE INFLUENCE      2268\n",
       "RUNAWAY                          1946\n",
       "LIQUOR LAWS                      1903\n",
       "ARSON                            1513\n",
       "LOITERING                        1225\n",
       "EMBEZZLEMENT                     1166\n",
       "SUICIDE                           508\n",
       "FAMILY OFFENSES                   491\n",
       "BAD CHECKS                        406\n",
       "BRIBERY                           289\n",
       "EXTORTION                         256\n",
       "SEX OFFENSES NON FORCIBLE         148\n",
       "GAMBLING                          146\n",
       "PORNOGRAPHY/OBSCENE MAT            22\n",
       "TREA                                6\n",
       "Name: Category, dtype: int64"
      ]
     },
     "execution_count": 71,
     "metadata": {},
     "output_type": "execute_result"
    }
   ],
   "source": [
    "# Larceny/Theft is the largest category, and \"Non_Criminal\" activity ranks third among crime categories.\n",
    "train[\"Category\"].value_counts()"
   ]
  },
  {
   "cell_type": "code",
   "execution_count": 97,
   "metadata": {},
   "outputs": [
    {
     "name": "stdout",
     "output_type": "stream",
     "text": [
      "DRIVERS LICENSE, SUSPENDED OR REVOKED                    26839\n",
      "TRAFFIC VIOLATION                                        16471\n",
      "RESISTING ARREST                                          8983\n",
      "MISCELLANEOUS INVESTIGATION                               8389\n",
      "PROBATION VIOLATION                                       8016\n",
      "LOST/STOLEN LICENSE PLATE                                 6424\n",
      "VIOLATION OF RESTRAINING ORDER                            5816\n",
      "PAROLE VIOLATION                                          5119\n",
      "TRAFFIC VIOLATION ARREST                                  5051\n",
      "CONSPIRACY                                                3114\n",
      "OBSCENE PHONE CALLS(S)                                    2492\n",
      "FALSE PERSONATION TO RECEIVE MONEY OR PROPERTY            2339\n",
      "VIOLATION OF MUNICIPAL CODE                               2308\n",
      "HARASSING PHONE CALLS                                     2194\n",
      "POSSESSION OF BURGLARY TOOLS                              2085\n",
      "VIOLATION OF MUNICIPAL POLICE CODE                        1903\n",
      "MISCELLANEOUS STATE MISDEMEANOR                           1867\n",
      "FALSE PERSONATION                                         1561\n",
      "FALSE EVIDENCE OF VEHICLE REGISTRATION                    1227\n",
      "FRAUDULENT GAME OR TRICK, OBTAINING MONEY OR PROPERTY      939\n",
      "Name: Descript, dtype: int64\n"
     ]
    }
   ],
   "source": [
    "# Other offfenses\" is a broad category, driven by driving/traffic violations, and Evasion of Legal Requirements \n",
    "# (eg, Probation Violation, Parole Violation, Violation of Restraining Orders, etc.). It also includes some very\n",
    "# random categories such as \"Danger of Leading Immoral Life.\" Given such breadth, this category may prove difficult \n",
    "# to classify.\n",
    "\n",
    "print(((train['Descript'].loc[train['Category'] == \"OTHER OFFENSES\"]).value_counts()).head(20))"
   ]
  },
  {
   "cell_type": "code",
   "execution_count": 19,
   "metadata": {},
   "outputs": [
    {
     "data": {
      "text/plain": [
       "Friday       133734\n",
       "Wednesday    129211\n",
       "Saturday     126810\n",
       "Thursday     125038\n",
       "Tuesday      124965\n",
       "Monday       121584\n",
       "Sunday       116707\n",
       "Name: DayOfWeek, dtype: int64"
      ]
     },
     "execution_count": 19,
     "metadata": {},
     "output_type": "execute_result"
    }
   ],
   "source": [
    "# Some differences in crimes by day of week; crimes peak on Friday see lowest levels on Sunday and rise from Mon-Wed.\n",
    "train[\"DayOfWeek\"].value_counts()"
   ]
  },
  {
   "cell_type": "code",
   "execution_count": 86,
   "metadata": {
    "scrolled": true
   },
   "outputs": [
    {
     "data": {
      "text/plain": [
       "2011-01-01 00:01:00    185\n",
       "2006-01-01 00:01:00    136\n",
       "2012-01-01 00:01:00     94\n",
       "2006-01-01 12:00:00     63\n",
       "2007-06-01 00:01:00     61\n",
       "2006-06-01 00:01:00     58\n",
       "2010-06-01 00:01:00     56\n",
       "2010-08-01 00:01:00     55\n",
       "2008-04-01 00:01:00     53\n",
       "2013-11-01 00:01:00     52\n",
       "2010-11-01 00:01:00     51\n",
       "2008-11-01 00:01:00     51\n",
       "2006-07-01 00:01:00     51\n",
       "2013-05-01 00:01:00     51\n",
       "2011-06-01 00:01:00     50\n",
       "2005-06-01 00:01:00     50\n",
       "2005-07-01 00:01:00     49\n",
       "2008-06-01 00:01:00     48\n",
       "2009-09-01 00:01:00     46\n",
       "2012-06-01 00:01:00     46\n",
       "Name: Dates, dtype: int64"
      ]
     },
     "execution_count": 86,
     "metadata": {},
     "output_type": "execute_result"
    }
   ],
   "source": [
    "# Top crimes are likely to occur on New Year's Day; the first day of the month also has a propensity for crime.\n",
    "train[\"Dates\"].value_counts().head(20)"
   ]
  },
  {
   "cell_type": "markdown",
   "metadata": {},
   "source": [
    "Create new buckets for month, day, year, hour and sesaons to further explore this data:"
   ]
  },
  {
   "cell_type": "code",
   "execution_count": 50,
   "metadata": {
    "collapsed": true
   },
   "outputs": [],
   "source": [
    "from datetime import datetime, timedelta, date\n",
    "import holidays\n",
    "\n",
    "# extract month, year and hour from both datasets\n",
    "train[\"month\"] = train[\"Dates\"].map(lambda x: datetime.strptime(x,\"%Y-%m-%d %H:%M:%S\").month)\n",
    "train[\"year\"] = train[\"Dates\"].map(lambda x: datetime.strptime(x,\"%Y-%m-%d %H:%M:%S\").year)\n",
    "train[\"hour\"] = train[\"Dates\"].map(lambda x: datetime.strptime(x,\"%Y-%m-%d %H:%M:%S\").hour)\n",
    "train[\"day\"] = train[\"Dates\"].map(lambda x: datetime.strptime(x,\"%Y-%m-%d %H:%M:%S\").day)\n",
    "\n",
    "test[\"month\"] = test[\"Dates\"].map(lambda x: datetime.strptime(x,\"%Y-%m-%d %H:%M:%S\").month)\n",
    "test[\"year\"] = test[\"Dates\"].map(lambda x: datetime.strptime(x,\"%Y-%m-%d %H:%M:%S\").year)\n",
    "test[\"hour\"] = test[\"Dates\"].map(lambda x: datetime.strptime(x,\"%Y-%m-%d %H:%M:%S\").hour)\n",
    "test[\"day\"] = test[\"Dates\"].map(lambda x: datetime.strptime(x,\"%Y-%m-%d %H:%M:%S\").day)\n",
    "\n",
    "# map holidays\n",
    "US_Holidays = holidays.UnitedStates()\n",
    "train[\"holidays\"] = train[\"Dates\"].map(lambda x: x in US_Holidays)\n",
    "test[\"holidays\"] = test[\"Dates\"].map(lambda x: x in US_Holidays)"
   ]
  },
  {
   "cell_type": "code",
   "execution_count": 51,
   "metadata": {
    "collapsed": true
   },
   "outputs": [],
   "source": [
    "# create a dictionary for dayparts\n",
    "time_periods = {6:\"early_morning\", 7:\"early_morning\", 8:\"early_morning\", \n",
    "               9:\"late_morning\", 10:\"late_morning\", 11:\"late_morning\",\n",
    "              12:\"early_afternoon\", 13:\"early_afternoon\", 14:\"early_afternoon\",\n",
    "              15:\"late_afternoon\", 16:\"late_afternoon\", 17:\"late_afternoon\",\n",
    "              18:\"early_evening\",  19:\"early_evening\",  20:\"early_evening\",\n",
    "              21:\"late_evening\", 22:\"late_evening\", 23:\"late_evening\",\n",
    "              0:\"late_night\", 1:\"late_night\", 2:\"late_night\",\n",
    "              3:\"late_night\", 4:\"late_night\", 5:\"late_night\"}\n",
    "\n",
    "# map time periods\n",
    "train[\"dayparts\"] = train[\"hour\"].map(time_periods)\n",
    "test[\"dayparts\"] = test[\"hour\"].map(time_periods)"
   ]
  },
  {
   "cell_type": "code",
   "execution_count": 57,
   "metadata": {},
   "outputs": [
    {
     "data": {
      "text/plain": [
       "2013    75606\n",
       "2014    74766\n",
       "2003    73902\n",
       "2004    73422\n",
       "2012    71731\n",
       "2005    70779\n",
       "2008    70174\n",
       "2006    69909\n",
       "2009    69000\n",
       "2007    68015\n",
       "2011    66619\n",
       "2010    66542\n",
       "2015    27584\n",
       "Name: year, dtype: int64"
      ]
     },
     "execution_count": 57,
     "metadata": {},
     "output_type": "execute_result"
    }
   ],
   "source": [
    "# There is no clear pattern in crime trends by year, although the most recent year appears to be an outlier.\n",
    "train[\"year\"].value_counts()"
   ]
  },
  {
   "cell_type": "code",
   "execution_count": 58,
   "metadata": {},
   "outputs": [
    {
     "name": "stdout",
     "output_type": "stream",
     "text": [
      "2014    18901\n",
      "2013    18152\n",
      "2012    15639\n",
      "2006    13798\n",
      "2011    13084\n",
      "2003    12990\n",
      "2008    12800\n",
      "2007    12760\n",
      "2009    12538\n",
      "2005    12402\n",
      "2010    12214\n",
      "2004    12111\n",
      "2015     7511\n",
      "Name: year, dtype: int64\n"
     ]
    }
   ],
   "source": [
    "# There is a pattern of increasing Larceny/Theft from 2012-2014, but again a steep drop in 2015.\n",
    "print((train['year'].loc[train['Category'] == \"LARCENY/THEFT\"]).value_counts())"
   ]
  },
  {
   "cell_type": "code",
   "execution_count": 73,
   "metadata": {},
   "outputs": [
    {
     "name": "stdout",
     "output_type": "stream",
     "text": [
      "3    6851\n",
      "4    6609\n",
      "2    6008\n",
      "1    5866\n",
      "5    2250\n",
      "Name: month, dtype: int64\n"
     ]
    }
   ],
   "source": [
    "# Further exploration reveals that we only have data through May of 2015.\n",
    "print((train['month'].loc[train['year'] == 2015]).value_counts())"
   ]
  },
  {
   "cell_type": "code",
   "execution_count": 88,
   "metadata": {},
   "outputs": [
    {
     "data": {
      "text/plain": [
       "1     32167\n",
       "22    30589\n",
       "8     30339\n",
       "21    30038\n",
       "19    30012\n",
       "20    29963\n",
       "4     29905\n",
       "18    29793\n",
       "7     29685\n",
       "5     29557\n",
       "23    29547\n",
       "9     29502\n",
       "6     29482\n",
       "17    29031\n",
       "3     28691\n",
       "13    28580\n",
       "10    28395\n",
       "15    28224\n",
       "12    28223\n",
       "16    28146\n",
       "24    27987\n",
       "11    27952\n",
       "14    27670\n",
       "27    27577\n",
       "2     27471\n",
       "28    27269\n",
       "29    27108\n",
       "25    26932\n",
       "26    26870\n",
       "30    26589\n",
       "31    14755\n",
       "Name: day, dtype: int64"
      ]
     },
     "execution_count": 88,
     "metadata": {},
     "output_type": "execute_result"
    }
   ],
   "source": [
    "# Crimes are most likely to occur on the first day of the month. \n",
    "# But, in isolation (lacking month info) this metric may be flawed given different number of days in various months?\n",
    "train[\"day\"].value_counts()"
   ]
  },
  {
   "cell_type": "code",
   "execution_count": 91,
   "metadata": {
    "scrolled": true
   },
   "outputs": [
    {
     "name": "stdout",
     "output_type": "stream",
     "text": [
      "19    6267\n",
      "22    6259\n",
      "21    6111\n",
      "23    6101\n",
      "18    6019\n",
      "20    5991\n",
      "8     5884\n",
      "13    5856\n",
      "17    5823\n",
      "24    5812\n",
      "5     5805\n",
      "7     5768\n",
      "27    5747\n",
      "9     5732\n",
      "29    5692\n",
      "Name: day, dtype: int64\n",
      "LARCENY/THEFT             5515\n",
      "OTHER OFFENSES            4794\n",
      "NON-CRIMINAL              3716\n",
      "ASSAULT                   3017\n",
      "DRUG/NARCOTIC             1821\n",
      "VEHICLE THEFT             1658\n",
      "VANDALISM                 1571\n",
      "SUSPICIOUS OCC            1526\n",
      "WARRANTS                  1210\n",
      "BURGLARY                  1193\n",
      "MISSING PERSON             998\n",
      "FRAUD                      917\n",
      "FORGERY/COUNTERFEITING     748\n",
      "ROBBERY                    742\n",
      "SECONDARY CODES            446\n",
      "Name: Category, dtype: int64\n"
     ]
    }
   ],
   "source": [
    "# Larceny/Theft is the #1 crime type, and other categories are driving crimes on the 1st day of the month.\n",
    "print(((train['day'].loc[train['Category'] == \"LARCENY/THEFT\"]).value_counts()).head(15))\n",
    "\n",
    "# Therefore, day of the month may help explain other types of offenses.\n",
    "print(((train['Category'].loc[train['day'] == 1]).value_counts()).head(15))"
   ]
  },
  {
   "cell_type": "code",
   "execution_count": 92,
   "metadata": {},
   "outputs": [
    {
     "data": {
      "text/plain": [
       "10    80274\n",
       "5     79644\n",
       "4     78096\n",
       "3     76320\n",
       "1     73536\n",
       "11    72975\n",
       "9     71982\n",
       "6     70892\n",
       "2     70813\n",
       "7     69971\n",
       "8     68540\n",
       "12    65006\n",
       "Name: month, dtype: int64"
      ]
     },
     "execution_count": 92,
     "metadata": {},
     "output_type": "execute_result"
    }
   ],
   "source": [
    "# There is no clear pattern for crimes by month of the year (but again this could correlate with specific crime types.)\n",
    "train[\"month\"].value_counts()"
   ]
  },
  {
   "cell_type": "code",
   "execution_count": 94,
   "metadata": {},
   "outputs": [
    {
     "data": {
      "text/plain": [
       "18    55104\n",
       "17    53553\n",
       "12    51934\n",
       "16    50137\n",
       "19    49475\n",
       "15    48058\n",
       "22    45741\n",
       "0     44865\n",
       "20    44694\n",
       "14    44424\n",
       "Name: hour, dtype: int64"
      ]
     },
     "execution_count": 94,
     "metadata": {},
     "output_type": "execute_result"
    }
   ],
   "source": [
    "# Looking at specific hours, crimes are somewhat more likely to occur after work and during lunchtime.\n",
    "(train[\"hour\"].value_counts().head(10))  "
   ]
  },
  {
   "cell_type": "code",
   "execution_count": 93,
   "metadata": {},
   "outputs": [
    {
     "data": {
      "text/plain": [
       "late_afternoon     151748\n",
       "early_evening      149273\n",
       "early_afternoon    139503\n",
       "late_evening       131862\n",
       "late_night         125848\n",
       "late_morning       111734\n",
       "early_morning       68081\n",
       "Name: dayparts, dtype: int64"
      ]
     },
     "execution_count": 93,
     "metadata": {},
     "output_type": "execute_result"
    }
   ],
   "source": [
    "# Aggregated into buckets, crime skews slightly toward daytime/early evening hours.\n",
    "train[\"dayparts\"].value_counts()"
   ]
  },
  {
   "cell_type": "code",
   "execution_count": 85,
   "metadata": {},
   "outputs": [
    {
     "data": {
      "text/plain": [
       "False    850015\n",
       "True      28034\n",
       "Name: holidays, dtype: int64"
      ]
     },
     "execution_count": 85,
     "metadata": {},
     "output_type": "execute_result"
    }
   ],
   "source": [
    "# Overall, 3.2% of all crimes occur on holidays, slightly higher than 10/365 holidays per year (or 2.7%)\n",
    "train[\"holidays\"].value_counts()"
   ]
  },
  {
   "cell_type": "code",
   "execution_count": 98,
   "metadata": {
    "scrolled": true
   },
   "outputs": [
    {
     "name": "stdout",
     "output_type": "stream",
     "text": [
      "11    4790\n",
      "1     4638\n",
      "2     4477\n",
      "5     3875\n",
      "9     3862\n",
      "12    3286\n",
      "10    2388\n",
      "7      718\n",
      "Name: month, dtype: int64\n"
     ]
    }
   ],
   "source": [
    "# Crime is more prevalent during Winter holidays (excluding Christmas Day), but this data does not account for \n",
    "# Christmas eve, New Year's eve and the weekends/weeks surrounding national holidays.\n",
    "print(((train['month'].loc[train['holidays'] == True]).value_counts()).head(30))"
   ]
  }
 ],
 "metadata": {
  "kernelspec": {
   "display_name": "Python 3",
   "language": "python",
   "name": "python3"
  },
  "language_info": {
   "codemirror_mode": {
    "name": "ipython",
    "version": 3
   },
   "file_extension": ".py",
   "mimetype": "text/x-python",
   "name": "python",
   "nbconvert_exporter": "python",
   "pygments_lexer": "ipython3",
   "version": "3.6.1"
  }
 },
 "nbformat": 4,
 "nbformat_minor": 2
}
