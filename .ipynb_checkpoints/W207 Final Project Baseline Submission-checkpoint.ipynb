{
 "cells": [
  {
   "cell_type": "markdown",
   "metadata": {},
   "source": [
    "# MIDS W207 Fall 2017 Final Project\n",
    "## Baseline Submission\n",
    "Laura Williams, Kim Vignola, Cyprian Gascoigne  \n",
    "SF Crime Classification"
   ]
  },
  {
   "cell_type": "code",
   "execution_count": 1,
   "metadata": {},
   "outputs": [
    {
     "name": "stderr",
     "output_type": "stream",
     "text": [
      "C:\\Users\\Kippy\\Anaconda3\\lib\\site-packages\\sklearn\\cross_validation.py:44: DeprecationWarning: This module was deprecated in version 0.18 in favor of the model_selection module into which all the refactored classes and functions are moved. Also note that the interface of the new CV iterators are different from that of this module. This module will be removed in 0.20.\n",
      "  \"This module will be removed in 0.20.\", DeprecationWarning)\n",
      "C:\\Users\\Kippy\\Anaconda3\\lib\\site-packages\\sklearn\\grid_search.py:43: DeprecationWarning: This module was deprecated in version 0.18 in favor of the model_selection module into which all the refactored classes and functions are moved. This module will be removed in 0.20.\n",
      "  DeprecationWarning)\n"
     ]
    }
   ],
   "source": [
    "# This tells matplotlib not to try opening a new window for each plot.\n",
    "%matplotlib inline\n",
    "\n",
    "# General libraries.\n",
    "import numpy as np\n",
    "import matplotlib.pyplot as plt\n",
    "import pandas as pd\n",
    "\n",
    "# SK-learn libraries for learning.\n",
    "from sklearn.pipeline import Pipeline\n",
    "from sklearn.neighbors import KNeighborsClassifier\n",
    "from sklearn.grid_search import GridSearchCV\n",
    "\n",
    "# SK-learn libraries for evaluation.\n",
    "from sklearn.metrics import confusion_matrix\n",
    "from sklearn import metrics\n",
    "from sklearn.metrics import classification_report"
   ]
  },
  {
   "cell_type": "markdown",
   "metadata": {},
   "source": [
    "Read in data"
   ]
  },
  {
   "cell_type": "code",
   "execution_count": 2,
   "metadata": {
    "collapsed": true
   },
   "outputs": [],
   "source": [
    "train = pd.read_csv('train.csv')\n",
    "test = pd.read_csv('test.csv')\n",
    "train_features = list(train.keys())"
   ]
  },
  {
   "cell_type": "markdown",
   "metadata": {},
   "source": [
    "Examine data"
   ]
  },
  {
   "cell_type": "markdown",
   "metadata": {},
   "source": [
    "Description of data from Kaggle:  \n",
    "Dates - timestamp of the crime incident  \n",
    "Category - category of the crime incident (only in train.csv). This is the target variable you are going to predict.  \n",
    "Descript - detailed description of the crime incident (only in train.csv)  \n",
    "DayOfWeek - the day of the week  \n",
    "PdDistrict - name of the Police Department District  \n",
    "Resolution - how the crime incident was resolved (only in train.csv)  \n",
    "Address - the approximate street address of the crime incident   \n",
    "X - Longitude  \n",
    "Y - Latitude  "
   ]
  },
  {
   "cell_type": "code",
   "execution_count": 3,
   "metadata": {},
   "outputs": [
    {
     "name": "stdout",
     "output_type": "stream",
     "text": [
      "First rows of train data: \n",
      "                  Dates        Category                      Descript  \\\n",
      "0  2015-05-13 23:53:00        WARRANTS                WARRANT ARREST   \n",
      "1  2015-05-13 23:53:00  OTHER OFFENSES      TRAFFIC VIOLATION ARREST   \n",
      "2  2015-05-13 23:33:00  OTHER OFFENSES      TRAFFIC VIOLATION ARREST   \n",
      "3  2015-05-13 23:30:00   LARCENY/THEFT  GRAND THEFT FROM LOCKED AUTO   \n",
      "4  2015-05-13 23:30:00   LARCENY/THEFT  GRAND THEFT FROM LOCKED AUTO   \n",
      "\n",
      "   DayOfWeek PdDistrict      Resolution                    Address  \\\n",
      "0  Wednesday   NORTHERN  ARREST, BOOKED         OAK ST / LAGUNA ST   \n",
      "1  Wednesday   NORTHERN  ARREST, BOOKED         OAK ST / LAGUNA ST   \n",
      "2  Wednesday   NORTHERN  ARREST, BOOKED  VANNESS AV / GREENWICH ST   \n",
      "3  Wednesday   NORTHERN            NONE   1500 Block of LOMBARD ST   \n",
      "4  Wednesday       PARK            NONE  100 Block of BRODERICK ST   \n",
      "\n",
      "            X          Y  \n",
      "0 -122.425892  37.774599  \n",
      "1 -122.425892  37.774599  \n",
      "2 -122.424363  37.800414  \n",
      "3 -122.426995  37.800873  \n",
      "4 -122.438738  37.771541  \n",
      "\n",
      "First rows of test data: \n",
      "    Id                Dates DayOfWeek PdDistrict                   Address  \\\n",
      "0   0  2015-05-10 23:59:00    Sunday    BAYVIEW   2000 Block of THOMAS AV   \n",
      "1   1  2015-05-10 23:51:00    Sunday    BAYVIEW        3RD ST / REVERE AV   \n",
      "2   2  2015-05-10 23:50:00    Sunday   NORTHERN    2000 Block of GOUGH ST   \n",
      "3   3  2015-05-10 23:45:00    Sunday  INGLESIDE  4700 Block of MISSION ST   \n",
      "4   4  2015-05-10 23:45:00    Sunday  INGLESIDE  4700 Block of MISSION ST   \n",
      "\n",
      "            X          Y  \n",
      "0 -122.399588  37.735051  \n",
      "1 -122.391523  37.732432  \n",
      "2 -122.426002  37.792212  \n",
      "3 -122.437394  37.721412  \n",
      "4 -122.437394  37.721412  \n",
      "\n",
      "The features in the training data are: \n",
      " ['Dates', 'Category', 'Descript', 'DayOfWeek', 'PdDistrict', 'Resolution', 'Address', 'X', 'Y']\n",
      "\n",
      "The shape of the train data is (878049, 9)\n",
      "The shape of the test data is (884262, 7)\n"
     ]
    }
   ],
   "source": [
    "print('First rows of train data: \\n', train.head())\n",
    "print('\\nFirst rows of test data: \\n', test.head())\n",
    "print(\"\\nThe features in the training data are: \\n\", train_features)\n",
    "print(\"\\nThe shape of the train data is\", train.shape)\n",
    "print(\"The shape of the test data is\", test.shape)"
   ]
  },
  {
   "cell_type": "markdown",
   "metadata": {},
   "source": [
    "Restructure data for modeling"
   ]
  },
  {
   "cell_type": "code",
   "execution_count": 4,
   "metadata": {},
   "outputs": [
    {
     "name": "stdout",
     "output_type": "stream",
     "text": [
      "Training data shape is (878049, 6)\n",
      "First few rows of training data are [['2015-05-13 23:53:00' 'Wednesday' 'NORTHERN' 'OAK ST / LAGUNA ST'\n",
      "  -122.425891675136 37.7745985956747]\n",
      " ['2015-05-13 23:53:00' 'Wednesday' 'NORTHERN' 'OAK ST / LAGUNA ST'\n",
      "  -122.425891675136 37.7745985956747]\n",
      " ['2015-05-13 23:33:00' 'Wednesday' 'NORTHERN' 'VANNESS AV / GREENWICH ST'\n",
      "  -122.42436302145 37.8004143219856]]\n",
      "\n",
      "Training labels shape is (878049,)\n",
      "First few labels of training labels are ['WARRANTS' 'OTHER OFFENSES' 'OTHER OFFENSES']\n",
      "\n",
      "Test data shape is (884262, 6)\n",
      "First few rows of training data are [['2015-05-10 23:59:00' 'Sunday' 'BAYVIEW' '2000 Block of THOMAS AV'\n",
      "  -122.39958770418998 37.7350510103906]\n",
      " ['2015-05-10 23:51:00' 'Sunday' 'BAYVIEW' '3RD ST / REVERE AV'\n",
      "  -122.391522893042 37.7324323864471]\n",
      " ['2015-05-10 23:50:00' 'Sunday' 'NORTHERN' '2000 Block of GOUGH ST'\n",
      "  -122.426001954961 37.7922124386284]]\n"
     ]
    }
   ],
   "source": [
    "train_data_all = np.column_stack((train['Dates'],\n",
    "                                 train['DayOfWeek'],\n",
    "                                 train['PdDistrict'],\n",
    "                                 train['Address'],\n",
    "                                 train['X'],\n",
    "                                 train['Y']))\n",
    "\n",
    "train_labels_all = np.array(train['Category'])\n",
    "\n",
    "test_data_all = np.column_stack((test['Dates'],\n",
    "                                test['DayOfWeek'],\n",
    "                                test['PdDistrict'],\n",
    "                                test['Address'],\n",
    "                                test['X'],\n",
    "                                test['Y']))\n",
    "\n",
    "print(\"Training data shape is\", train_data_all.shape)\n",
    "print(\"First few rows of training data are\", train_data_all[:3])\n",
    "print()\n",
    "print(\"Training labels shape is\", train_labels_all.shape)\n",
    "print(\"First few labels of training labels are\", train_labels_all[:3])\n",
    "print()\n",
    "print(\"Test data shape is\", test_data_all.shape)\n",
    "print(\"First few rows of training data are\", test_data_all[:3])\n"
   ]
  },
  {
   "cell_type": "markdown",
   "metadata": {},
   "source": [
    "Set aside 20% of training data as development data"
   ]
  },
  {
   "cell_type": "code",
   "execution_count": 6,
   "metadata": {},
   "outputs": [
    {
     "name": "stdout",
     "output_type": "stream",
     "text": [
      "Training data shape is (702439, 6)\n",
      "Training labels shape is, (702439, 6)\n",
      "\n",
      "Development data shape is (175610, 6)\n",
      "Develpment labels shape is (175610, 6)\n"
     ]
    }
   ],
   "source": [
    "n = train_data_all.shape[0]\n",
    "\n",
    "# I don't understand shuffle except that it's importnat but it gave me an error\n",
    "shuffle = np.random.permutation(np.arange(train_data_all.shape[0]))\n",
    "\n",
    "train_data_all = train_data_all[shuffle]\n",
    "train_labels_all = train_labels_all[shuffle]\n",
    "\n",
    "n_train = int(0.8*n)\n",
    "\n",
    "train_data = train_data_all[:n_train,:]\n",
    "train_labels = train_data_all[:n_train]\n",
    "dev_data = train_data_all[n_train:,:]\n",
    "dev_labels = train_data_all[n_train:]\n",
    "\n",
    "\n",
    "print(\"Training data shape is\", train_data.shape)\n",
    "print(\"Training labels shape is,\", train_labels.shape)\n",
    "print()\n",
    "print(\"Development data shape is\", dev_data.shape)\n",
    "print(\"Develpment labels shape is\", dev_labels.shape)\n"
   ]
  },
  {
   "cell_type": "code",
   "execution_count": null,
   "metadata": {
    "collapsed": true
   },
   "outputs": [],
   "source": []
  }
 ],
 "metadata": {
  "kernelspec": {
   "display_name": "Python 3",
   "language": "python",
   "name": "python3"
  },
  "language_info": {
   "codemirror_mode": {
    "name": "ipython",
    "version": 3
   },
   "file_extension": ".py",
   "mimetype": "text/x-python",
   "name": "python",
   "nbconvert_exporter": "python",
   "pygments_lexer": "ipython3",
   "version": "3.6.1"
  }
 },
 "nbformat": 4,
 "nbformat_minor": 2
}
