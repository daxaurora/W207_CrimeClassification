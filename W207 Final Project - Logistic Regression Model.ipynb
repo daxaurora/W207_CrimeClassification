{
 "cells": [
  {
   "cell_type": "markdown",
   "metadata": {},
   "source": [
    "This notebook trains a logistic regression model, finds the optimal value of C, and reports F1 and log loss scores."
   ]
  },
  {
   "cell_type": "code",
   "execution_count": 1,
   "metadata": {
    "collapsed": true
   },
   "outputs": [],
   "source": [
    "import numpy as np\n",
    "import pandas as pd\n",
    "import zipfile\n",
    "from sklearn import metrics\n",
    "from sklearn.linear_model import LogisticRegression"
   ]
  },
  {
   "cell_type": "code",
   "execution_count": 2,
   "metadata": {
    "collapsed": true
   },
   "outputs": [],
   "source": [
    "# Unzip data files into the \"csv\" subdirectory \n",
    "# (unless you have already done this since running the Data Set Up notebook)\n",
    "\n",
    "# **IMPORTANT**  This will overwrite existing files in the \"csv\" folder in your local repo\n",
    "# with the most recent data files from the data.zip file\n",
    "\n",
    "# Unzip 80% training data\n",
    "unzip_training_data = zipfile.ZipFile(\"data_subset.zip\", \"r\")\n",
    "unzip_training_data.extractall()\n",
    "unzip_training_data.close()\n",
    "\n",
    "# Unzip development and training data\n",
    "unzip_test_data = zipfile.ZipFile(\"testing.zip\", \"r\")\n",
    "unzip_test_data.extractall()\n",
    "unzip_test_data.close()\n",
    "\n",
    "# Unzip full set of training data for creating predictions to submit to Kaggle\n",
    "unzip_all_data = zipfile.ZipFile(\"data.zip\", \"r\")\n",
    "unzip_all_data.extractall()\n",
    "unzip_all_data.close()"
   ]
  },
  {
   "cell_type": "code",
   "execution_count": 3,
   "metadata": {
    "collapsed": true
   },
   "outputs": [],
   "source": [
    "# Load these csv files into numpy arrays for testing on development data\n",
    "train_data = np.loadtxt('csv/train_data.csv', delimiter=\",\")\n",
    "train_labels = np.loadtxt('csv/train_labels.csv', dtype=str, delimiter=\",\")\n",
    "dev_data = np.loadtxt('csv/dev_data.csv', delimiter=\",\")\n",
    "dev_labels = np.loadtxt('csv/dev_labels.csv', dtype=str, delimiter=\",\")"
   ]
  },
  {
   "cell_type": "code",
   "execution_count": 4,
   "metadata": {
    "collapsed": true
   },
   "outputs": [],
   "source": [
    "# Load these csv files into numpy arrays for creating predictions to submit to Kaggle\n",
    "train_data_all = np.loadtxt('csv/train_data_all.csv', delimiter=\",\")\n",
    "train_labels_all = np.loadtxt('csv/train_labels_all.csv', dtype=str, delimiter=\",\")\n",
    "test_data_all = np.loadtxt('csv/test_data_all.csv', delimiter=\",\")"
   ]
  },
  {
   "cell_type": "code",
   "execution_count": 5,
   "metadata": {},
   "outputs": [
    {
     "name": "stdout",
     "output_type": "stream",
     "text": [
      "train_data shape is (702439, 58)\n",
      "train_labels shape is (702439,)\n",
      "dev_data shape is (175610, 58)\n",
      "dev_labels shape is (175610,)\n"
     ]
    }
   ],
   "source": [
    "# print shapes to compare before and after csv conversion\n",
    "print(\"train_data shape is\", train_data.shape)\n",
    "print(\"train_labels shape is\", train_labels.shape)\n",
    "print(\"dev_data shape is\", dev_data.shape)\n",
    "print(\"dev_labels shape is\", dev_labels.shape)"
   ]
  },
  {
   "cell_type": "code",
   "execution_count": 6,
   "metadata": {},
   "outputs": [
    {
     "name": "stdout",
     "output_type": "stream",
     "text": [
      "train_data_all shape is (878049, 58)\n",
      "train_labels_all shape is (878049,)\n",
      "test_data_all shape is (884262, 58)\n"
     ]
    }
   ],
   "source": [
    "print(\"train_data_all shape is\", train_data_all.shape)\n",
    "print(\"train_labels_all shape is\", train_labels_all.shape)\n",
    "print(\"test_data_all shape is\", test_data_all.shape)"
   ]
  },
  {
   "cell_type": "code",
   "execution_count": 19,
   "metadata": {
    "collapsed": true
   },
   "outputs": [],
   "source": [
    "# Set up functions for training logistic regression model and finding optimal value of C\n",
    "\n",
    "def TrainLR(data, labels, test_data, C_value=1.0):\n",
    "    \"\"\"This function takes in training data and labels, testing data,\n",
    "    and can accept different values of C (the learning rate).\n",
    "    It trains a logistic regression model and returns the model and predicted probabilities.\n",
    "    \"\"\"\n",
    "    LR = LogisticRegression(C=C_value)\n",
    "    LR.fit(data, labels)\n",
    "    pp = LR.predict_proba(test_data)\n",
    "    return LR, pp\n",
    "\n",
    "def find_C(data, labels, dev_data, dev_labels, C_values):\n",
    "    \"\"\"Find optimal value of C in a logistic regression model.  \n",
    "    \n",
    "    Note that this cannot be used on test data from Kaggle \n",
    "    because we do not have labels for that data.  This function is intended to only be used\n",
    "    in the development stage with the development data.\n",
    "    \"\"\"\n",
    "    for C in C_values:      \n",
    "        LR, pp = TrainLR(data, labels, dev_data, C)\n",
    "        predictions = LR.predict(dev_data)\n",
    "        f1 = metrics.f1_score(dev_labels, predictions, average = \"weighted\")\n",
    "        logloss = metrics.log_loss(dev_labels, pp)\n",
    "        \n",
    "        # Print F1 score and log loss for each value of k\n",
    "        print(\"For C =\", C, \"the F1 score is\", round(f1, 6), \"and the Log Loss score is\", round(logloss, 6))\n",
    "    print(\"\\n\")"
   ]
  },
  {
   "cell_type": "code",
   "execution_count": null,
   "metadata": {
    "collapsed": true
   },
   "outputs": [],
   "source": [
    "# IF there are additional changes to make to the data for this model\n",
    "# that would be easier to do in pandas, uncomment and run this code. \n",
    "# This model works the same whether the data is in numpy or pandas, so presumably so do other models\n",
    "\n",
    "#train_data = pd.DataFrame(train_data)\n",
    "#train_labels = pd.DataFrame(train_labels)\n",
    "#dev_data = pd.DataFrame(dev_data)\n",
    "#dev_labels = pd.DataFrame(dev_labels)\n",
    "#train_data_all = pd.DataFrame(train_data_all)\n",
    "#train_labels_all = pd.DataFrame(train_labels_all)\n",
    "#test_data_all = pd.DataFrame(test_data_all)"
   ]
  },
  {
   "cell_type": "code",
   "execution_count": 5,
   "metadata": {},
   "outputs": [
    {
     "name": "stderr",
     "output_type": "stream",
     "text": [
      "/Users/laura/anaconda3/lib/python3.6/site-packages/sklearn/metrics/classification.py:1135: UndefinedMetricWarning: F-score is ill-defined and being set to 0.0 in labels with no predicted samples.\n",
      "  'precision', 'predicted', average, warn_for)\n"
     ]
    },
    {
     "name": "stdout",
     "output_type": "stream",
     "text": [
      "For C = 0.0001 the F1 score is 0.147075 and the Log Loss score is 3.014795\n",
      "For C = 0.001 the F1 score is 0.150284 and the Log Loss score is 2.638404\n",
      "For C = 0.01 the F1 score is 0.151366 and the Log Loss score is 2.551881\n",
      "For C = 0.1 the F1 score is 0.151589 and the Log Loss score is 2.543797\n",
      "For C = 0.5 the F1 score is 0.151615 and the Log Loss score is 2.543427\n",
      "For C = 1.0 the F1 score is 0.151579 and the Log Loss score is 2.543396\n",
      "For C = 2.0 the F1 score is 0.151605 and the Log Loss score is 2.543383\n",
      "For C = 10.0 the F1 score is 0.151657 and the Log Loss score is 2.543385\n",
      "For C = 100.0 the F1 score is 0.151619 and the Log Loss score is 2.543447\n",
      "For C = 1000.0 the F1 score is 0.151616 and the Log Loss score is 2.543544\n",
      "\n",
      "\n"
     ]
    }
   ],
   "source": [
    "# Find the optimal value of C using the 80% training data and the development data\n",
    "C_values = [0.0001, 0.001, 0.01, 0.1, 0.5, 1.0, 2.0, 10.0, 100.00, 1000.0]\n",
    "find_C(train_data, train_labels, dev_data, dev_labels, C_values)"
   ]
  },
  {
   "cell_type": "code",
   "execution_count": 14,
   "metadata": {},
   "outputs": [
    {
     "name": "stderr",
     "output_type": "stream",
     "text": [
      "/Users/laura/anaconda3/lib/python3.6/site-packages/sklearn/linear_model/sag.py:326: ConvergenceWarning: The max_iter was reached which means the coef_ did not converge\n",
      "  \"the coef_ did not converge\", ConvergenceWarning)\n"
     ]
    },
    {
     "name": "stdout",
     "output_type": "stream",
     "text": [
      "2.54267758117\n"
     ]
    }
   ],
   "source": [
    "# Train model with a single value of C with 80% training data and development data\n",
    "C_value = 2.0\n",
    "LR, pp = TrainLR(train_data, train_labels, dev_data, C_value)\n",
    "logloss = metrics.log_loss(dev_labels, pp)\n",
    "print(logloss)"
   ]
  },
  {
   "cell_type": "code",
   "execution_count": 15,
   "metadata": {},
   "outputs": [
    {
     "name": "stderr",
     "output_type": "stream",
     "text": [
      "/Users/laura/anaconda3/lib/python3.6/site-packages/sklearn/linear_model/sag.py:326: ConvergenceWarning: The max_iter was reached which means the coef_ did not converge\n",
      "  \"the coef_ did not converge\", ConvergenceWarning)\n"
     ]
    }
   ],
   "source": [
    "# Before submitting to Kaggle, run the model on the full set of training data and test data\n",
    "# using the optimal value for the model\n",
    "C_value = 2.0\n",
    "LR, pp = TrainLR(train_data_all, train_labels_all, test_data_all, C_value)"
   ]
  },
  {
   "cell_type": "code",
   "execution_count": 16,
   "metadata": {},
   "outputs": [
    {
     "name": "stdout",
     "output_type": "stream",
     "text": [
      "(884262, 39)\n",
      "Id      ARSON  ASSAULT  BAD CHECKS  BRIBERY  BURGLARY  DISORDERLY CONDUCT  \\\n",
      "0         0.0      0.0         0.0      0.0       0.0        0.000000e+00   \n",
      "1         0.0      0.0         0.0      0.0       0.0        0.000000e+00   \n",
      "2         0.0      0.0         0.0      0.0       0.0        0.000000e+00   \n",
      "3         0.0      0.0         0.0      0.0       0.0        0.000000e+00   \n",
      "4         0.0      0.0         0.0      0.0       0.0        0.000000e+00   \n",
      "5         0.0      0.0         0.0      0.0       0.0        0.000000e+00   \n",
      "6         0.0      0.0         0.0      0.0       0.0        0.000000e+00   \n",
      "7         0.0      0.0         0.0      0.0       0.0        0.000000e+00   \n",
      "8         0.0      0.0         0.0      0.0       0.0        0.000000e+00   \n",
      "9         0.0      0.0         0.0      0.0       0.0        0.000000e+00   \n",
      "10        0.0      0.0         0.0      0.0       0.0        0.000000e+00   \n",
      "11        0.0      0.0         0.0      0.0       0.0        0.000000e+00   \n",
      "12        0.0      0.0         0.0      0.0       0.0        0.000000e+00   \n",
      "13        0.0      0.0         0.0      0.0       0.0        0.000000e+00   \n",
      "14        0.0      0.0         0.0      0.0       0.0        0.000000e+00   \n",
      "15        0.0      0.0         0.0      0.0       0.0        0.000000e+00   \n",
      "16        0.0      0.0         0.0      0.0       0.0        0.000000e+00   \n",
      "17        0.0      0.0         0.0      0.0       0.0        0.000000e+00   \n",
      "18        0.0      0.0         0.0      0.0       0.0        0.000000e+00   \n",
      "19        0.0      0.0         0.0      0.0       0.0        0.000000e+00   \n",
      "20        0.0      0.0         0.0      0.0       0.0        0.000000e+00   \n",
      "21        0.0      0.0         0.0      0.0       0.0        0.000000e+00   \n",
      "22        0.0      0.0         0.0      0.0       0.0        0.000000e+00   \n",
      "23        0.0      0.0         0.0      0.0       0.0        0.000000e+00   \n",
      "24        0.0      0.0         0.0      0.0       0.0        0.000000e+00   \n",
      "25        0.0      0.0         0.0      0.0       0.0        0.000000e+00   \n",
      "26        0.0      0.0         0.0      0.0       0.0        0.000000e+00   \n",
      "27        0.0      0.0         0.0      0.0       0.0        0.000000e+00   \n",
      "28        0.0      0.0         0.0      0.0       0.0        0.000000e+00   \n",
      "29        0.0      0.0         0.0      0.0       0.0        0.000000e+00   \n",
      "...       ...      ...         ...      ...       ...                 ...   \n",
      "884232    0.0      0.0         0.0      0.0       0.0        0.000000e+00   \n",
      "884233    0.0      0.0         0.0      0.0       0.0        0.000000e+00   \n",
      "884234    0.0      0.0         0.0      0.0       0.0        0.000000e+00   \n",
      "884235    0.0      0.0         0.0      0.0       0.0        0.000000e+00   \n",
      "884236    0.0      0.0         0.0      0.0       0.0        0.000000e+00   \n",
      "884237    0.0      0.0         0.0      0.0       0.0        0.000000e+00   \n",
      "884238    0.0      0.0         0.0      0.0       0.0        0.000000e+00   \n",
      "884239    0.0      0.0         0.0      0.0       0.0        0.000000e+00   \n",
      "884240    0.0      0.0         0.0      0.0       0.0        0.000000e+00   \n",
      "884241    0.0      0.0         0.0      0.0       0.0        0.000000e+00   \n",
      "884242    0.0      0.0         0.0      0.0       0.0        0.000000e+00   \n",
      "884243    0.0      0.0         0.0      0.0       0.0        0.000000e+00   \n",
      "884244    0.0      0.0         0.0      0.0       0.0        0.000000e+00   \n",
      "884245    0.0      0.0         0.0      0.0       0.0        0.000000e+00   \n",
      "884246    0.0      0.0         0.0      0.0       0.0       3.629244e-298   \n",
      "884247    0.0      0.0         0.0      0.0       0.0        0.000000e+00   \n",
      "884248    0.0      0.0         0.0      0.0       0.0        0.000000e+00   \n",
      "884249    0.0      0.0         0.0      0.0       0.0        0.000000e+00   \n",
      "884250    0.0      0.0         0.0      0.0       0.0        0.000000e+00   \n",
      "884251    0.0      0.0         0.0      0.0       0.0        0.000000e+00   \n",
      "884252    0.0      0.0         0.0      0.0       0.0        0.000000e+00   \n",
      "884253    0.0      0.0         0.0      0.0       0.0        0.000000e+00   \n",
      "884254    0.0      0.0         0.0      0.0       0.0        0.000000e+00   \n",
      "884255    0.0      0.0         0.0      0.0       0.0        0.000000e+00   \n",
      "884256    0.0      0.0         0.0      0.0       0.0        0.000000e+00   \n",
      "884257    0.0      0.0         0.0      0.0       0.0        0.000000e+00   \n",
      "884258    0.0      0.0         0.0      0.0       0.0        0.000000e+00   \n",
      "884259    0.0      0.0         0.0      0.0       0.0        0.000000e+00   \n",
      "884260    0.0      0.0         0.0      0.0       0.0        0.000000e+00   \n",
      "884261    0.0      0.0         0.0      0.0       0.0        0.000000e+00   \n",
      "\n",
      "Id      DRIVING UNDER THE INFLUENCE  DRUG/NARCOTIC    DRUNKENNESS  \\\n",
      "0                      1.000000e+00   0.000000e+00   0.000000e+00   \n",
      "1                      1.000000e+00   0.000000e+00   0.000000e+00   \n",
      "2                      1.000000e+00   0.000000e+00   0.000000e+00   \n",
      "3                      1.000000e+00   0.000000e+00   0.000000e+00   \n",
      "4                      1.000000e+00   0.000000e+00   0.000000e+00   \n",
      "5                      1.000000e+00   0.000000e+00   0.000000e+00   \n",
      "6                      0.000000e+00   0.000000e+00   0.000000e+00   \n",
      "7                      1.194566e-10   0.000000e+00   0.000000e+00   \n",
      "8                      1.000000e+00   0.000000e+00   0.000000e+00   \n",
      "9                      1.000000e+00   0.000000e+00   0.000000e+00   \n",
      "10                     0.000000e+00   0.000000e+00   0.000000e+00   \n",
      "11                     1.000000e+00   0.000000e+00   0.000000e+00   \n",
      "12                     1.000000e+00   0.000000e+00   0.000000e+00   \n",
      "13                     1.000000e+00   0.000000e+00   0.000000e+00   \n",
      "14                     1.000000e+00   0.000000e+00   0.000000e+00   \n",
      "15                     1.000000e+00   0.000000e+00   0.000000e+00   \n",
      "16                     0.000000e+00   0.000000e+00   0.000000e+00   \n",
      "17                     0.000000e+00   0.000000e+00   0.000000e+00   \n",
      "18                     9.433749e-75   0.000000e+00   0.000000e+00   \n",
      "19                     1.000000e+00   0.000000e+00   0.000000e+00   \n",
      "20                     1.000000e+00   0.000000e+00   0.000000e+00   \n",
      "21                    1.937384e-279   0.000000e+00   0.000000e+00   \n",
      "22                    7.973345e-123   0.000000e+00   0.000000e+00   \n",
      "23                     1.000000e+00   0.000000e+00   0.000000e+00   \n",
      "24                     1.000000e+00   0.000000e+00   0.000000e+00   \n",
      "25                     8.839239e-30   0.000000e+00   0.000000e+00   \n",
      "26                     1.000000e+00   0.000000e+00   0.000000e+00   \n",
      "27                     1.000000e+00   0.000000e+00   0.000000e+00   \n",
      "28                     1.000000e+00   0.000000e+00   0.000000e+00   \n",
      "29                    2.130450e-146   0.000000e+00   0.000000e+00   \n",
      "...                             ...            ...            ...   \n",
      "884232                 1.000000e+00   0.000000e+00   0.000000e+00   \n",
      "884233                 1.000000e+00   0.000000e+00   0.000000e+00   \n",
      "884234                 1.000000e+00   0.000000e+00   0.000000e+00   \n",
      "884235                 1.000000e+00   0.000000e+00   0.000000e+00   \n",
      "884236                 1.000000e+00   0.000000e+00   0.000000e+00   \n",
      "884237                 1.000000e+00   0.000000e+00   0.000000e+00   \n",
      "884238                 1.000000e+00   0.000000e+00   0.000000e+00   \n",
      "884239                 1.000000e+00   0.000000e+00   0.000000e+00   \n",
      "884240                 1.000000e+00   0.000000e+00   0.000000e+00   \n",
      "884241                 1.000000e+00   0.000000e+00   0.000000e+00   \n",
      "884242                 1.000000e+00   0.000000e+00   0.000000e+00   \n",
      "884243                 1.000000e+00   0.000000e+00   0.000000e+00   \n",
      "884244                 1.000000e+00   0.000000e+00   0.000000e+00   \n",
      "884245                 1.000000e+00   0.000000e+00   0.000000e+00   \n",
      "884246                 8.634535e-01  1.795609e-194  2.519840e-253   \n",
      "884247                 1.000000e+00   0.000000e+00   0.000000e+00   \n",
      "884248                 1.000000e+00   0.000000e+00   0.000000e+00   \n",
      "884249                 1.000000e+00   0.000000e+00   0.000000e+00   \n",
      "884250                 1.000000e+00   0.000000e+00   0.000000e+00   \n",
      "884251                 1.000000e+00   0.000000e+00   0.000000e+00   \n",
      "884252                 1.000000e+00   0.000000e+00   0.000000e+00   \n",
      "884253                 1.000000e+00   0.000000e+00   0.000000e+00   \n",
      "884254                 1.000000e+00   0.000000e+00   0.000000e+00   \n",
      "884255                 1.000000e+00   0.000000e+00   0.000000e+00   \n",
      "884256                 1.000000e+00   0.000000e+00   0.000000e+00   \n",
      "884257                 1.000000e+00   0.000000e+00   0.000000e+00   \n",
      "884258                 1.000000e+00   0.000000e+00   0.000000e+00   \n",
      "884259                 1.000000e+00   0.000000e+00   0.000000e+00   \n",
      "884260                 1.000000e+00   0.000000e+00   0.000000e+00   \n",
      "884261                 1.000000e+00   0.000000e+00   0.000000e+00   \n",
      "\n",
      "Id      EMBEZZLEMENT      ...        SEX OFFENSES NON FORCIBLE  \\\n",
      "0                0.0      ...                              0.0   \n",
      "1                0.0      ...                              0.0   \n",
      "2                0.0      ...                              0.0   \n",
      "3                0.0      ...                              0.0   \n",
      "4                0.0      ...                              0.0   \n",
      "5                0.0      ...                              0.0   \n",
      "6                0.0      ...                              0.0   \n",
      "7                0.0      ...                              0.0   \n",
      "8                0.0      ...                              0.0   \n",
      "9                0.0      ...                              0.0   \n",
      "10               0.0      ...                              0.0   \n",
      "11               0.0      ...                              0.0   \n",
      "12               0.0      ...                              0.0   \n",
      "13               0.0      ...                              0.0   \n",
      "14               0.0      ...                              0.0   \n",
      "15               0.0      ...                              0.0   \n",
      "16               0.0      ...                              0.0   \n",
      "17               0.0      ...                              0.0   \n",
      "18               0.0      ...                              0.0   \n",
      "19               0.0      ...                              0.0   \n",
      "20               0.0      ...                              0.0   \n",
      "21               0.0      ...                              0.0   \n",
      "22               0.0      ...                              0.0   \n",
      "23               0.0      ...                              0.0   \n",
      "24               0.0      ...                              0.0   \n",
      "25               0.0      ...                              0.0   \n",
      "26               0.0      ...                              0.0   \n",
      "27               0.0      ...                              0.0   \n",
      "28               0.0      ...                              0.0   \n",
      "29               0.0      ...                              0.0   \n",
      "...              ...      ...                              ...   \n",
      "884232           0.0      ...                              0.0   \n",
      "884233           0.0      ...                              0.0   \n",
      "884234           0.0      ...                              0.0   \n",
      "884235           0.0      ...                              0.0   \n",
      "884236           0.0      ...                              0.0   \n",
      "884237           0.0      ...                              0.0   \n",
      "884238           0.0      ...                              0.0   \n",
      "884239           0.0      ...                              0.0   \n",
      "884240           0.0      ...                              0.0   \n",
      "884241           0.0      ...                              0.0   \n",
      "884242           0.0      ...                              0.0   \n",
      "884243           0.0      ...                              0.0   \n",
      "884244           0.0      ...                              0.0   \n",
      "884245           0.0      ...                              0.0   \n",
      "884246           0.0      ...                              0.0   \n",
      "884247           0.0      ...                              0.0   \n",
      "884248           0.0      ...                              0.0   \n",
      "884249           0.0      ...                              0.0   \n",
      "884250           0.0      ...                              0.0   \n",
      "884251           0.0      ...                              0.0   \n",
      "884252           0.0      ...                              0.0   \n",
      "884253           0.0      ...                              0.0   \n",
      "884254           0.0      ...                              0.0   \n",
      "884255           0.0      ...                              0.0   \n",
      "884256           0.0      ...                              0.0   \n",
      "884257           0.0      ...                              0.0   \n",
      "884258           0.0      ...                              0.0   \n",
      "884259           0.0      ...                              0.0   \n",
      "884260           0.0      ...                              0.0   \n",
      "884261           0.0      ...                              0.0   \n",
      "\n",
      "Id      STOLEN PROPERTY  SUICIDE  SUSPICIOUS OCC           TREA  TRESPASS  \\\n",
      "0          0.000000e+00      0.0             0.0   0.000000e+00       0.0   \n",
      "1          0.000000e+00      0.0             0.0   0.000000e+00       0.0   \n",
      "2          0.000000e+00      0.0             0.0   0.000000e+00       0.0   \n",
      "3          0.000000e+00      0.0             0.0   0.000000e+00       0.0   \n",
      "4          0.000000e+00      0.0             0.0   0.000000e+00       0.0   \n",
      "5          0.000000e+00      0.0             0.0   0.000000e+00       0.0   \n",
      "6          0.000000e+00      0.0             0.0   0.000000e+00       0.0   \n",
      "7          0.000000e+00      0.0             0.0   0.000000e+00       0.0   \n",
      "8          0.000000e+00      0.0             0.0   0.000000e+00       0.0   \n",
      "9          0.000000e+00      0.0             0.0   0.000000e+00       0.0   \n",
      "10         0.000000e+00      0.0             0.0   0.000000e+00       0.0   \n",
      "11         0.000000e+00      0.0             0.0   0.000000e+00       0.0   \n",
      "12         0.000000e+00      0.0             0.0   0.000000e+00       0.0   \n",
      "13         0.000000e+00      0.0             0.0   0.000000e+00       0.0   \n",
      "14         0.000000e+00      0.0             0.0   0.000000e+00       0.0   \n",
      "15         0.000000e+00      0.0             0.0   0.000000e+00       0.0   \n",
      "16         0.000000e+00      0.0             0.0   0.000000e+00       0.0   \n",
      "17         0.000000e+00      0.0             0.0   0.000000e+00       0.0   \n",
      "18         0.000000e+00      0.0             0.0   0.000000e+00       0.0   \n",
      "19         0.000000e+00      0.0             0.0   0.000000e+00       0.0   \n",
      "20         0.000000e+00      0.0             0.0   0.000000e+00       0.0   \n",
      "21         0.000000e+00      0.0             0.0   0.000000e+00       0.0   \n",
      "22         0.000000e+00      0.0             0.0   0.000000e+00       0.0   \n",
      "23         0.000000e+00      0.0             0.0   0.000000e+00       0.0   \n",
      "24         0.000000e+00      0.0             0.0   0.000000e+00       0.0   \n",
      "25         0.000000e+00      0.0             0.0   0.000000e+00       0.0   \n",
      "26         0.000000e+00      0.0             0.0   0.000000e+00       0.0   \n",
      "27         0.000000e+00      0.0             0.0   0.000000e+00       0.0   \n",
      "28         0.000000e+00      0.0             0.0   0.000000e+00       0.0   \n",
      "29         0.000000e+00      0.0             0.0   0.000000e+00       0.0   \n",
      "...                 ...      ...             ...            ...       ...   \n",
      "884232     0.000000e+00      0.0             0.0   0.000000e+00       0.0   \n",
      "884233     0.000000e+00      0.0             0.0   0.000000e+00       0.0   \n",
      "884234     0.000000e+00      0.0             0.0   0.000000e+00       0.0   \n",
      "884235     0.000000e+00      0.0             0.0   0.000000e+00       0.0   \n",
      "884236     0.000000e+00      0.0             0.0   0.000000e+00       0.0   \n",
      "884237     0.000000e+00      0.0             0.0   0.000000e+00       0.0   \n",
      "884238     0.000000e+00      0.0             0.0   0.000000e+00       0.0   \n",
      "884239     0.000000e+00      0.0             0.0   0.000000e+00       0.0   \n",
      "884240     0.000000e+00      0.0             0.0   0.000000e+00       0.0   \n",
      "884241     0.000000e+00      0.0             0.0   0.000000e+00       0.0   \n",
      "884242     0.000000e+00      0.0             0.0   0.000000e+00       0.0   \n",
      "884243     0.000000e+00      0.0             0.0   0.000000e+00       0.0   \n",
      "884244     0.000000e+00      0.0             0.0   0.000000e+00       0.0   \n",
      "884245     0.000000e+00      0.0             0.0   0.000000e+00       0.0   \n",
      "884246    4.736852e-313      0.0             0.0  3.952525e-323       0.0   \n",
      "884247     0.000000e+00      0.0             0.0   0.000000e+00       0.0   \n",
      "884248     0.000000e+00      0.0             0.0   0.000000e+00       0.0   \n",
      "884249     0.000000e+00      0.0             0.0   0.000000e+00       0.0   \n",
      "884250     0.000000e+00      0.0             0.0   0.000000e+00       0.0   \n",
      "884251     0.000000e+00      0.0             0.0   0.000000e+00       0.0   \n",
      "884252     0.000000e+00      0.0             0.0   0.000000e+00       0.0   \n",
      "884253     0.000000e+00      0.0             0.0   0.000000e+00       0.0   \n",
      "884254     0.000000e+00      0.0             0.0   0.000000e+00       0.0   \n",
      "884255     0.000000e+00      0.0             0.0   0.000000e+00       0.0   \n",
      "884256     0.000000e+00      0.0             0.0   0.000000e+00       0.0   \n",
      "884257     0.000000e+00      0.0             0.0   0.000000e+00       0.0   \n",
      "884258     0.000000e+00      0.0             0.0   0.000000e+00       0.0   \n",
      "884259     0.000000e+00      0.0             0.0   0.000000e+00       0.0   \n",
      "884260     0.000000e+00      0.0             0.0   0.000000e+00       0.0   \n",
      "884261     0.000000e+00      0.0             0.0   0.000000e+00       0.0   \n",
      "\n",
      "Id      VANDALISM  VEHICLE THEFT       WARRANTS    WEAPON LAWS  \n",
      "0             0.0   0.000000e+00   0.000000e+00   0.000000e+00  \n",
      "1             0.0   0.000000e+00   0.000000e+00   0.000000e+00  \n",
      "2             0.0   0.000000e+00   0.000000e+00   0.000000e+00  \n",
      "3             0.0   0.000000e+00   0.000000e+00   0.000000e+00  \n",
      "4             0.0   0.000000e+00   0.000000e+00   0.000000e+00  \n",
      "5             0.0   0.000000e+00   0.000000e+00   0.000000e+00  \n",
      "6             0.0   0.000000e+00   0.000000e+00   0.000000e+00  \n",
      "7             0.0   0.000000e+00   0.000000e+00   0.000000e+00  \n",
      "8             0.0   0.000000e+00   0.000000e+00   0.000000e+00  \n",
      "9             0.0   0.000000e+00   0.000000e+00   0.000000e+00  \n",
      "10            0.0   0.000000e+00   0.000000e+00   0.000000e+00  \n",
      "11            0.0   0.000000e+00   0.000000e+00   0.000000e+00  \n",
      "12            0.0   0.000000e+00   0.000000e+00   0.000000e+00  \n",
      "13            0.0   0.000000e+00   0.000000e+00   0.000000e+00  \n",
      "14            0.0   0.000000e+00   0.000000e+00   0.000000e+00  \n",
      "15            0.0   0.000000e+00   0.000000e+00   0.000000e+00  \n",
      "16            0.0   0.000000e+00   0.000000e+00   0.000000e+00  \n",
      "17            0.0   0.000000e+00   0.000000e+00   0.000000e+00  \n",
      "18            0.0   0.000000e+00   0.000000e+00   0.000000e+00  \n",
      "19            0.0   0.000000e+00   0.000000e+00   0.000000e+00  \n",
      "20            0.0   0.000000e+00   0.000000e+00   0.000000e+00  \n",
      "21            0.0   0.000000e+00   0.000000e+00   0.000000e+00  \n",
      "22            0.0   0.000000e+00   0.000000e+00   0.000000e+00  \n",
      "23            0.0   0.000000e+00   0.000000e+00   0.000000e+00  \n",
      "24            0.0   0.000000e+00   0.000000e+00   0.000000e+00  \n",
      "25            0.0   0.000000e+00   0.000000e+00   0.000000e+00  \n",
      "26            0.0   0.000000e+00   0.000000e+00   0.000000e+00  \n",
      "27            0.0   0.000000e+00   0.000000e+00   0.000000e+00  \n",
      "28            0.0   0.000000e+00   0.000000e+00   0.000000e+00  \n",
      "29            0.0   0.000000e+00   0.000000e+00   0.000000e+00  \n",
      "...           ...            ...            ...            ...  \n",
      "884232        0.0   0.000000e+00   0.000000e+00   0.000000e+00  \n",
      "884233        0.0   0.000000e+00   0.000000e+00   0.000000e+00  \n",
      "884234        0.0   0.000000e+00   0.000000e+00   0.000000e+00  \n",
      "884235        0.0   0.000000e+00   0.000000e+00   0.000000e+00  \n",
      "884236        0.0   0.000000e+00   0.000000e+00   0.000000e+00  \n",
      "884237        0.0   0.000000e+00   0.000000e+00   0.000000e+00  \n",
      "884238        0.0   0.000000e+00   0.000000e+00   0.000000e+00  \n",
      "884239        0.0   0.000000e+00   0.000000e+00   0.000000e+00  \n",
      "884240        0.0   0.000000e+00   0.000000e+00   0.000000e+00  \n",
      "884241        0.0   0.000000e+00   0.000000e+00   0.000000e+00  \n",
      "884242        0.0   0.000000e+00   0.000000e+00   0.000000e+00  \n",
      "884243        0.0   0.000000e+00   0.000000e+00   0.000000e+00  \n",
      "884244        0.0   0.000000e+00   0.000000e+00   0.000000e+00  \n",
      "884245        0.0   0.000000e+00   0.000000e+00   0.000000e+00  \n",
      "884246        0.0  9.812654e-241  3.244477e-232  9.346010e-293  \n",
      "884247        0.0   0.000000e+00   0.000000e+00   0.000000e+00  \n",
      "884248        0.0   0.000000e+00   0.000000e+00   0.000000e+00  \n",
      "884249        0.0   0.000000e+00   0.000000e+00   0.000000e+00  \n",
      "884250        0.0   0.000000e+00   0.000000e+00   0.000000e+00  \n",
      "884251        0.0   0.000000e+00   0.000000e+00   0.000000e+00  \n",
      "884252        0.0   0.000000e+00   0.000000e+00   0.000000e+00  \n",
      "884253        0.0   0.000000e+00   0.000000e+00   0.000000e+00  \n",
      "884254        0.0   0.000000e+00   0.000000e+00   0.000000e+00  \n",
      "884255        0.0   0.000000e+00   0.000000e+00   0.000000e+00  \n",
      "884256        0.0   0.000000e+00   0.000000e+00   0.000000e+00  \n",
      "884257        0.0   0.000000e+00   0.000000e+00   0.000000e+00  \n",
      "884258        0.0   0.000000e+00   0.000000e+00   0.000000e+00  \n",
      "884259        0.0   0.000000e+00   0.000000e+00   0.000000e+00  \n",
      "884260        0.0   0.000000e+00   0.000000e+00   0.000000e+00  \n",
      "884261        0.0   0.000000e+00   0.000000e+00   0.000000e+00  \n",
      "\n",
      "[884262 rows x 39 columns]\n"
     ]
    }
   ],
   "source": [
    "# Set up predictions for submission to Kaggle\n",
    "headers = [\"ARSON\",\"ASSAULT\",\"BAD CHECKS\",\"BRIBERY\",\"BURGLARY\",\"DISORDERLY CONDUCT\",\"DRIVING UNDER THE INFLUENCE\",\n",
    "           \"DRUG/NARCOTIC\",\"DRUNKENNESS\",\"EMBEZZLEMENT\",\"EXTORTION\",\"FAMILY OFFENSES\",\"FORGERY/COUNTERFEITING\",\n",
    "           \"FRAUD\",\"GAMBLING\",\"KIDNAPPING\",\"LARCENY/THEFT\",\"LIQUOR LAWS\",\"LOITERING\",\"MISSING PERSON\",\"NON-CRIMINAL\",\n",
    "           \"OTHER OFFENSES\",\"PORNOGRAPHY/OBSCENE MAT\",\"PROSTITUTION\",\"RECOVERED VEHICLE\",\"ROBBERY\",\"RUNAWAY\",\n",
    "           \"SECONDARY CODES\",\"SEX OFFENSES FORCIBLE\",\"SEX OFFENSES NON FORCIBLE\",\"STOLEN PROPERTY\",\"SUICIDE\",\n",
    "           \"SUSPICIOUS OCC\",\"TREA\",\"TRESPASS\",\"VANDALISM\",\"VEHICLE THEFT\",\"WARRANTS\",\"WEAPON LAWS\"]\n",
    "data = pd.DataFrame(data=pp, \n",
    "                    index=[x for x in range(len(test_data_all))], \n",
    "                    columns=headers)\n",
    "data.columns.name =\"Id\"\n",
    "print(data.shape)\n",
    "print(data)"
   ]
  },
  {
   "cell_type": "markdown",
   "metadata": {},
   "source": [
    "Create zipped csv file for Kaggle\n",
    "#### Update the filename first in all lines of the following code\n",
    "Add something unique after our names to avoid overwriting other submission files"
   ]
  },
  {
   "cell_type": "code",
   "execution_count": 17,
   "metadata": {
    "collapsed": true
   },
   "outputs": [],
   "source": [
    "data.to_csv('Williams_Gascoigne_Vignola_Regression3.csv', index_label = \"Id\")"
   ]
  },
  {
   "cell_type": "code",
   "execution_count": 18,
   "metadata": {
    "collapsed": true
   },
   "outputs": [],
   "source": [
    "zip_probs = zipfile.ZipFile(\"Williams_Gascoigne_Vignola_Regression3.zip\", \"w\")\n",
    "zip_probs.write(\"Williams_Gascoigne_Vignola_Regression3.csv\", compress_type=zipfile.ZIP_DEFLATED)\n",
    "zip_probs.close()"
   ]
  },
  {
   "cell_type": "markdown",
   "metadata": {},
   "source": [
    "### Results from previous datasets and/or model parameters"
   ]
  },
  {
   "cell_type": "markdown",
   "metadata": {},
   "source": [
    "**First Submission**   \n",
    "Results on development data from dataset as of Saturday 11/18, with weather added, latitude outliers removed, binarized and normalized features:\n",
    "\n",
    "For C = 0.0001 the F1 score is 0.147075 and the Log Loss score is 3.014795  \n",
    "For C = 0.001 the F1 score is 0.150284 and the Log Loss score is 2.638404  \n",
    "For C = 0.01 the F1 score is 0.151366 and the Log Loss score is 2.551881  \n",
    "For C = 0.1 the F1 score is 0.151589 and the Log Loss score is 2.543797  \n",
    "For C = 0.5 the F1 score is 0.151615 and the Log Loss score is 2.543427  \n",
    "For C = 1.0 the F1 score is 0.151579 and the Log Loss score is 2.543396  \n",
    "**For C = 2.0 the F1 score is 0.151605 and the Log Loss score is 2.543383**  \n",
    "For C = 10.0 the F1 score is 0.151657 and the Log Loss score is 2.543385  \n",
    "For C = 100.0 the F1 score is 0.151619 and the Log Loss score is 2.543447  \n",
    "For C = 1000.0 the F1 score is 0.151616 and the Log Loss score is 2.543544  \n",
    "\n",
    "Predictions on test data from training on full data set are in zip file ending with Regression1\n",
    "\n",
    "Kaggle score from that zip file that we thought should have correlated with the above scores on dev data was 18.20988 (!?)  \n",
    "\n",
    "\n",
    "**Second Submission**  \n",
    "We changed our workflow along the way, so our first step was to re-run this notebook to confirm that we are unzipping and using the latest version of the data, in particular the full set of training and test data. \n",
    "\n",
    "Log loss on dev data after this step, with C=2.0 is 2.54338  \n",
    "Predictions from this step are in zip file ending with Regression2  \n",
    "Kaggle score is the same: 18.20989   \n",
    "So the problem was not workflow.  \n",
    "\n",
    "\n",
    "**Third Submission**  \n",
    "On Cyprian's suggestion, we added the multi_class = 'multinomial' argument to the logistic regression model, because we don't have a binary output variable.  \n",
    "\n",
    "Log loss on dev data after this step, with C=2.0 is 2.54267  \n",
    "Predictions from this step are in zip file ending with Regression3  \n",
    "Kaggle score on this set of predictions is:  33.37633   \n",
    "This is even worse! Removed the multi_class argument from the model code.  \n"
   ]
  }
 ],
 "metadata": {
  "kernelspec": {
   "display_name": "Python 3",
   "language": "python",
   "name": "python3"
  },
  "language_info": {
   "codemirror_mode": {
    "name": "ipython",
    "version": 3
   },
   "file_extension": ".py",
   "mimetype": "text/x-python",
   "name": "python",
   "nbconvert_exporter": "python",
   "pygments_lexer": "ipython3",
   "version": "3.6.1"
  }
 },
 "nbformat": 4,
 "nbformat_minor": 2
}
