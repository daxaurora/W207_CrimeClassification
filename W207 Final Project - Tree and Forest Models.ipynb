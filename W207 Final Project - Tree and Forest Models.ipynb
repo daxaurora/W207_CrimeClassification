{
 "cells": [
  {
   "cell_type": "markdown",
   "metadata": {},
   "source": [
    "## MIDS W207 Fall 2017 Final Project\n",
    "# Decision Tree and Random Forest Models\n",
    "Laura Williams, Kim Vignola, Cyprian Gascoigne  \n",
    "Kaggle Project: San Francisco Crime Classification"
   ]
  },
  {
   "cell_type": "markdown",
   "metadata": {},
   "source": [
    "## Introduction\n",
    "\n",
    "In this notebook, we train boosted decision tree and random forest models [and possibly the a bagged tree model] on a dataset from the Kaggle competition called *San Francisco Crime Classification*, which is available here:  \n",
    "https://www.kaggle.com/c/sf-crime\n",
    "\n",
    "These models are intended to be run on a modified version of the dataset, so it is intended that this notebook follow implementation of our *Data Set Up* notebook.  Setting up our data included feature engineering, transformations, additional relevant data, and normalization, and is explained in more detail in the *Data Set Up* notebook.\n",
    "\n",
    "The goal of our models is to predict the type of crime classification, based on time, date, and location features in the dataset from Kaggle, and other data we chose to add in the *Data Set Up* notebook. \n",
    "\n",
    "We evaluated our models using a log loss calculation on 20% of held back development data, for which we already had lables. We trained our models for submission to Kaggle on the entire set of training data, and submissed prediction probabilities on the test data to Kaggle for final scoring.\n",
    "\n",
    "We found that the Random Forest classifier returned the best predictions for this dataset."
   ]
  },
  {
   "cell_type": "markdown",
   "metadata": {},
   "source": [
    "#### First import all packages used in this notebook:"
   ]
  },
  {
   "cell_type": "code",
   "execution_count": 10,
   "metadata": {
    "collapsed": true
   },
   "outputs": [],
   "source": [
    "import numpy as np\n",
    "# import pandas as pd\n",
    "import matplotlib.pyplot as plt\n",
    "import zipfile\n",
    "from sklearn import metrics\n",
    "from sklearn.tree import DecisionTreeClassifier\n",
    "from sklearn.ensemble import RandomForestClassifier \n",
    "from sklearn.ensemble import AdaBoostClassifier "
   ]
  },
  {
   "cell_type": "markdown",
   "metadata": {},
   "source": [
    "#### Extract the modified dataset and load into numpy arrays"
   ]
  },
  {
   "cell_type": "code",
   "execution_count": 11,
   "metadata": {
    "collapsed": true
   },
   "outputs": [],
   "source": [
    "# Unzip data files into the \"csv\" subdirectory \n",
    "\n",
    "# **IMPORTANT**  This will overwrite existing files in the \"csv\" folder in your local repo\n",
    "# with the most recent data files from the data.zip file\n",
    "\n",
    "# Unzip 80% training data\n",
    "unzip_training_data = zipfile.ZipFile(\"data_subset.zip\", \"r\")\n",
    "unzip_training_data.extractall()\n",
    "unzip_training_data.close()\n",
    "\n",
    "# Unzip development and training data\n",
    "unzip_test_data = zipfile.ZipFile(\"testing.zip\", \"r\")\n",
    "unzip_test_data.extractall()\n",
    "unzip_test_data.close()\n",
    "\n",
    "# Unzip full set of training data for creating predictions to submit to Kaggle\n",
    "unzip_all_data = zipfile.ZipFile(\"data.zip\", \"r\")\n",
    "unzip_all_data.extractall()\n",
    "unzip_all_data.close()"
   ]
  },
  {
   "cell_type": "code",
   "execution_count": 12,
   "metadata": {
    "collapsed": true
   },
   "outputs": [],
   "source": [
    "# Load these csv files into numpy arrays for testing on development data\n",
    "train_data = np.loadtxt('csv/train_data.csv', delimiter=\",\")\n",
    "train_labels = np.loadtxt('csv/train_labels.csv', dtype=str, delimiter=\",\")\n",
    "dev_data = np.loadtxt('csv/dev_data.csv', delimiter=\",\")\n",
    "dev_labels = np.loadtxt('csv/dev_labels.csv', dtype=str, delimiter=\",\")"
   ]
  },
  {
   "cell_type": "code",
   "execution_count": 4,
   "metadata": {
    "collapsed": true
   },
   "outputs": [],
   "source": [
    "# Load these csv files into numpy arrays for creating predictions to submit to Kaggle\n",
    "train_data_all = np.loadtxt('csv/train_data_all.csv', delimiter=\",\")\n",
    "train_labels_all = np.loadtxt('csv/train_labels_all.csv', dtype=str, delimiter=\",\")\n",
    "test_data_all = np.loadtxt('csv/test_data_all.csv', delimiter=\",\")"
   ]
  },
  {
   "cell_type": "code",
   "execution_count": 13,
   "metadata": {},
   "outputs": [
    {
     "name": "stdout",
     "output_type": "stream",
     "text": [
      "train_data shape is (702439, 58)\n",
      "train_labels shape is (702439,)\n",
      "dev_data shape is (175610, 58)\n",
      "dev_labels shape is (175610,)\n"
     ]
    }
   ],
   "source": [
    "# print shapes to compare before and after csv conversion\n",
    "print(\"train_data shape is\", train_data.shape)\n",
    "print(\"train_labels shape is\", train_labels.shape)\n",
    "print(\"dev_data shape is\", dev_data.shape)\n",
    "print(\"dev_labels shape is\", dev_labels.shape)"
   ]
  },
  {
   "cell_type": "code",
   "execution_count": 6,
   "metadata": {},
   "outputs": [
    {
     "name": "stdout",
     "output_type": "stream",
     "text": [
      "train_data_all shape is (878049, 58)\n",
      "train_labels_all shape is (878049,)\n",
      "test_data_all shape is (884262, 58)\n"
     ]
    }
   ],
   "source": [
    "print(\"train_data_all shape is\", train_data_all.shape)\n",
    "print(\"train_labels_all shape is\", train_labels_all.shape)\n",
    "print(\"test_data_all shape is\", test_data_all.shape)"
   ]
  },
  {
   "cell_type": "code",
   "execution_count": null,
   "metadata": {
    "collapsed": true
   },
   "outputs": [],
   "source": [
    "# IF there are additional changes to make to the data for this model\n",
    "# that would be easier to do in pandas, uncomment and run this code. \n",
    "# This model works the same whether the data is in numpy or pandas, so presumably so do other models\n",
    "\n",
    "#train_data = pd.DataFrame(train_data)\n",
    "#train_labels = pd.DataFrame(train_labels)\n",
    "#dev_data = pd.DataFrame(dev_data)\n",
    "#dev_labels = pd.DataFrame(dev_labels)\n",
    "#train_data_all = pd.DataFrame(train_data_all)\n",
    "#train_labels_all = pd.DataFrame(train_labels_all)\n",
    "#test_data_all = pd.DataFrame(test_data_all)"
   ]
  },
  {
   "cell_type": "markdown",
   "metadata": {},
   "source": [
    "## Random Forest Model\n",
    "The Random Forest Classifier returned the best log loss scores with default parameters, so chose this as our final model and spent the most time tuning hyperparameters for this model.\n",
    "\n",
    "The following experiments on an interim dataset returned these optimal parameters:\n",
    "n_estimators = 150  \n",
    "max_features = 0.40  \n",
    "max_depth = 16  \n",
    "\n",
    "*TO DO*  \n",
    "Rerun the hyperparameter tuning on our final data set to see if changes to the dataset had any impact on optimal hyperparameters."
   ]
  },
  {
   "cell_type": "code",
   "execution_count": 184,
   "metadata": {},
   "outputs": [],
   "source": [
    "# Set up functions for training random forest and finding optimal hyperparameters\n",
    "\n",
    "def TrainRF(data, labels, test_data, n, depth, features):\n",
    "    \"\"\"This function takes as input training data and labels, testing data,\n",
    "    and can accept different values of hyperparameters, including:\n",
    "    n (the number of random decision trees to create),\n",
    "    max_depth (the depth of the tree), and \n",
    "    max_features (the subset of features the model randomly selects).\n",
    "    \n",
    "    This function trains a random forest model and returns the model and predicted probabilities.\n",
    "    \"\"\"\n",
    "    RF = RandomForestClassifier(n_estimators=n, max_depth=depth, max_features=features, n_jobs=1)\n",
    "    RF.fit(data, labels)\n",
    "    pp = RF.predict_proba(test_data)\n",
    "    return RF, pp\n",
    "\n",
    "def find_max_depth(data, labels, dev_data, dev_labels, n, depth_values, features):\n",
    "    \"\"\"Find optimal value of max_depth in a random forest model.  \n",
    "    \n",
    "    Note that this cannot be used on test data from Kaggle \n",
    "    because we do not have labels for that data.  This function is intended to only be used\n",
    "    in the development stage with the development data.    \n",
    "    \"\"\"\n",
    "    scores = []\n",
    "    for depth in depth_values:      \n",
    "        RF, pp = TrainRF(data, labels, dev_data, n, depth, features)\n",
    "        logloss = metrics.log_loss(dev_labels, pp)\n",
    "        scores.append(logloss)\n",
    "    return scores\n",
    "        \n",
    "def find_max_features(data, labels, dev_data, dev_labels, n, depth, num_features):\n",
    "    \"\"\"Find optimal value of max_features in a random forest model.  \n",
    "    \n",
    "    Note that this cannot be used on test data from Kaggle \n",
    "    because we do not have labels for that data.  This function is intended to only be used\n",
    "    in the development stage with the development data.    \n",
    "    \"\"\"\n",
    "    scores = []\n",
    "    for f in num_features:      \n",
    "        RF, pp = TrainRF(data, labels, dev_data, n, depth, f)\n",
    "        logloss = metrics.log_loss(dev_labels, pp)\n",
    "        scores.append(logloss)\n",
    "    return scores\n",
    "\n",
    "\n",
    "def find_n(data, labels, dev_data, dev_labels, n_values, depth, features):\n",
    "    \"\"\"Find optimal value of n in a random forest model.  \n",
    "    \n",
    "    Note that this cannot be used on test data from Kaggle \n",
    "    because we do not have labels for that data.  This function is intended to only be used\n",
    "    in the development stage with the development data.\n",
    "    \"\"\"\n",
    "    scores = []\n",
    "    for n in n_values:      \n",
    "        RF, pp = TrainRF(data, labels, dev_data, n, depth, features)\n",
    "        logloss = metrics.log_loss(dev_labels, pp)\n",
    "        scores.append(logloss)\n",
    "    return scores"
   ]
  },
  {
   "cell_type": "markdown",
   "metadata": {},
   "source": [
    "### Tuning hyperparaters\n",
    "First we experimented with changing one hyperparameter at a time, leaving the remaining parameters at a value with minimal computational cost. This allowed us to quickly cycle through a large range of values for each hyperparameter to more easily target fine-tuning.\n",
    "\n",
    "In random forests, the same parameters can return slightly different results when run multiple times because the classifer returns a randomly slightly different model every time.  For this reason, we ran each experiment multiple times and plotted the results.\n",
    "\n",
    "Then we fine-tuned smaller ranges of values with higher computational cost, resulting at an optimal set of hyperparameters on which to train our final model."
   ]
  },
  {
   "cell_type": "markdown",
   "metadata": {},
   "source": [
    "#### Maximum depth of the decision tree (max_depth)\n",
    "\n",
    "We experimented with different ranges of max_depth parameters before settling on the range we tested below.  \n",
    "\n",
    "With a data set with 58 features, and the number of estimators and maximum number of features set to the default (n=10 and max_features = \"sqrt\"), we found that the optimal max_depth is usually 16 with a log loss score on the development data of about 2.422 through 2.438, though there is overlap with max_depth values of 15 through 18."
   ]
  },
  {
   "cell_type": "code",
   "execution_count": 114,
   "metadata": {},
   "outputs": [],
   "source": [
    "# Set up variables\n",
    "n = 10\n",
    "features=\"sqrt\"\n",
    "depth_values = [1, 3, 5, 7, 9, 11, 13, 14, 15, 16, 17, 18, 19]\n",
    "\n",
    "# Run multiple iterations and record all scores\n",
    "iterations = 10\n",
    "all_depths = np.zeros((iterations, (len(depth_values))))\n",
    "all_scores = np.zeros((iterations, (len(depth_values))))\n",
    "\n",
    "for i in range(iterations):\n",
    "    scores = find_max_depth(train_data, train_labels, dev_data, dev_labels, n, depth_values, features)\n",
    "    all_depths[i] = depth_values\n",
    "    all_scores[i] = scores"
   ]
  },
  {
   "cell_type": "code",
   "execution_count": 158,
   "metadata": {},
   "outputs": [
    {
     "data": {
      "image/png": "[encoded data removed]",
      "text/plain": [
       "<matplotlib.figure.Figure at 0x1128425f8>"
      ]
     },
     "metadata": {},
     "output_type": "display_data"
    }
   ],
   "source": [
    "# Set up data for the plot\n",
    "avg_score_per_depth = np.mean(all_scores, axis=0)\n",
    "\n",
    "# Plot max_depth results\n",
    "plt.figure(figsize=(8,4))\n",
    "x = [1, 3, 5, 7, 9, 11, 13, 15, 17, 19]\n",
    "plt.xticks(x)\n",
    "plt.xlabel(\"Max_depth value\")\n",
    "plt.ylabel(\"Log loss on development data\")\n",
    "plt.title(\"Random Forest Model: Tuning max_depth hyperparameter with 58 features\")\n",
    "plt.plot(depth_values, avg_score_per_depth, c=\"cornflowerblue\", linewidth=1.0)\n",
    "plt.scatter(all_depths, all_scores, c = \"darkblue\", s=10)\n",
    "plt.axhline(y=2.422, linewidth=0.5, color = 'mediumorchid')\n",
    "plt.axhline(y=2.438, linewidth=0.5, color = 'mediumorchid')\n",
    "plt.show()\n",
    "# plt.savefig(\"Images/Max_Depth.png\")\n"
   ]
  },
  {
   "cell_type": "markdown",
   "metadata": {},
   "source": [
    "#### Maximum number of features in the model (max_features)\n",
    "\n",
    "We experimented with different subset sizes of features that the random forest classifier randomly selects from the total feature set.  Common values include the square root and log base 2 of the total number of features.  Float values for this parameter will select the percentage of the total features (i.e., a float of 0.10 will select 10% of the features), and the *None* value will use all of the features.\n",
    "\n",
    "With a dataset of 58 features, with the number of estimators and maximum depth set to low values to minimize testing time (n=10 and max_depth = 5), we found that the optimal number of maximum features with these parameters is about 23 features, which is about 40% of the total feature set, a max_features value of 0.40.  With the non-optimal max_depth, this returned slightly higher log loss values of 2.530 - 2.542."
   ]
  },
  {
   "cell_type": "code",
   "execution_count": 172,
   "metadata": {},
   "outputs": [],
   "source": [
    "# Set up variables\n",
    "n = 10\n",
    "depth = 5\n",
    "num_features = [0.05, 'sqrt', 0.10, 'log2', 0.15, 0.20, 0.25, 0.30, 0.40, 0.50, 0.60, 0.70, 0.80, 0.90, None]\n",
    "num_features_for_plotting = [0.05*train_data.shape[1],\n",
    "                             np.sqrt(train_data.shape[1]), \n",
    "                             0.10*train_data.shape[1],                              \n",
    "                             np.log2(train_data.shape[1]),\n",
    "                             0.15*train_data.shape[1],\n",
    "                             0.20*train_data.shape[1], \n",
    "                             0.25*train_data.shape[1],\n",
    "                             0.30*train_data.shape[1],\n",
    "                             0.40*train_data.shape[1],\n",
    "                             0.50*train_data.shape[1],\n",
    "                             0.60*train_data.shape[1],\n",
    "                             0.70*train_data.shape[1],\n",
    "                             0.80*train_data.shape[1],\n",
    "                             0.90*train_data.shape[1],\n",
    "                             train_data.shape[1]\n",
    "                            ]\n",
    "\n",
    "# Run multiple iterations\n",
    "iterations = 10\n",
    "all_num_features = np.zeros((iterations, (len(num_features))), dtype='object')\n",
    "all_scores_features = np.zeros((iterations, (len(num_features))))\n",
    "\n",
    "for i in range(iterations):\n",
    "    scores = find_max_features(train_data, train_labels, dev_data, dev_labels, n, depth, num_features)\n",
    "    all_num_features[i] = num_features_for_plotting\n",
    "    all_scores_features[i] = scores"
   ]
  },
  {
   "cell_type": "code",
   "execution_count": 181,
   "metadata": {},
   "outputs": [
    {
     "data": {
      "image/png": "[encoded data removed]",
      "text/plain": [
       "<matplotlib.figure.Figure at 0x112c99400>"
      ]
     },
     "metadata": {},
     "output_type": "display_data"
    }
   ],
   "source": [
    "# Set up data for the plot\n",
    "avg_score_per_num_features = np.mean(all_scores_features, axis=0)\n",
    "\n",
    "# Plot max_features results\n",
    "plt.figure(figsize=(8,4))\n",
    "plt.xlabel(\"Max_features\")\n",
    "plt.ylabel(\"Log loss on development data\")\n",
    "plt.title(\"Random Forest Model: Tuning max_features hyperparameter with 58 features\")\n",
    "plt.plot(num_features_for_plotting, avg_score_per_num_features, c=\"cornflowerblue\", linewidth=1.0)\n",
    "plt.scatter(all_num_features, all_scores_features, c = \"darkblue\", s=10)\n",
    "plt.axhline(y=2.530, linewidth=0.5, color = 'mediumorchid')\n",
    "plt.axhline(y=2.542, linewidth=0.5, color = 'mediumorchid')\n",
    "plt.show()\n",
    "# plt.savefig(\"Images/Max_Features.png\")"
   ]
  },
  {
   "cell_type": "markdown",
   "metadata": {},
   "source": [
    "#### Maximum number of random models (n_estimators)\n",
    "\n",
    "We experimented with different values for the number of models the random forest classifier creates.\n",
    "\n",
    "This hyperparameter exacts the most computational cost, so we first tried it out with very small values of the other hyperparameters (max_depth=3 and a feature subset of 10%)\n",
    "\n",
    "Often random forest models are said to do much better with larger values of n_estimators, bur we found that with the 58 feature data set and a these two other parameters, that we did not get dramatically better results above n = 150. We redid the experiment to look more closely at smaller values of n, and arrived at an optimal value for n_estimators of [add here]."
   ]
  },
  {
   "cell_type": "code",
   "execution_count": 191,
   "metadata": {},
   "outputs": [],
   "source": [
    "# NOTE: With the default max_depth of None and n_jobs = -1 (using all cores), higher values of n crashed my laptop\n",
    "# Apparently this is common with random forests\n",
    "# The fix: limit max_depth and limit n_jobs to 1 core (n_jobs=1 is the default)  \n",
    "# It takes a bit longer but doesn't crash in the middle of processing --Laura\n",
    "\n",
    "# Set up variables\n",
    "n_values = [10, 25, 50, 75, 100, 150, 200, 300, 400, 500, 750, 1000]\n",
    "depth = 3\n",
    "features = 0.10\n",
    "\n",
    "# Run multiple iterations\n",
    "iterations = 6\n",
    "all_n_values = np.zeros((iterations, (len(n_values))))\n",
    "all_scores_n_values = np.zeros((iterations, (len(n_values))))\n",
    "\n",
    "for i in range(iterations):\n",
    "    scores = find_n(train_data, train_labels, dev_data, dev_labels, n_values, depth, features)\n",
    "    all_n_values[i] = n_values\n",
    "    all_scores_n_values[i] = scores"
   ]
  },
  {
   "cell_type": "code",
   "execution_count": 201,
   "metadata": {},
   "outputs": [
    {
     "data": {
      "image/png": "[encoded data removed]",
      "text/plain": [
       "<matplotlib.figure.Figure at 0x110a4de10>"
      ]
     },
     "metadata": {},
     "output_type": "display_data"
    }
   ],
   "source": [
    "# Set up data for the plot\n",
    "avg_score_per_n_value = np.mean(all_scores_n_values, axis=0)\n",
    "\n",
    "# Set up plot\n",
    "plt.figure(figsize=(8,4))\n",
    "plt.xlabel(\"N_estimators hyperparameter\")\n",
    "plt.ylabel(\"Log loss on development data\")\n",
    "plt.title(\"Random Forest Model: Tuning n_estimators hyperparameter\")\n",
    "plt.plot(n_values, avg_score_per_n_value, c=\"cornflowerblue\", linewidth=1.0)\n",
    "plt.scatter(all_n_values, all_scores_n_values, c = \"darkblue\", s=10)\n",
    "plt.axhline(y=2.6155, linewidth=0.5, color = 'mediumorchid')\n",
    "plt.axhline(y=2.6185, linewidth=0.5, color = 'mediumorchid')\n",
    "plt.show()\n",
    "#plt.savefig(\"Images/Optimal_N_58_features.png\")"
   ]
  },
  {
   "cell_type": "code",
   "execution_count": 207,
   "metadata": {
    "collapsed": true
   },
   "outputs": [],
   "source": [
    "# Set up variables to look at smaller values of n\n",
    "n_values = [10, 25, 50, 75, 100, 150, 200]\n",
    "depth = 3\n",
    "features = 0.10\n",
    "\n",
    "# Run multiple iterations\n",
    "iterations = 10\n",
    "all_n_values_small = np.zeros((iterations, (len(n_values))))\n",
    "all_scores_n_values_small = np.zeros((iterations, (len(n_values))))\n",
    "\n",
    "for i in range(iterations):\n",
    "    scores = find_n(train_data, train_labels, dev_data, dev_labels, n_values, depth, features)\n",
    "    all_n_values_small[i] = n_values\n",
    "    all_scores_n_values_small[i] = scores"
   ]
  },
  {
   "cell_type": "code",
   "execution_count": 208,
   "metadata": {},
   "outputs": [
    {
     "data": {
      "image/png": "[encoded data removed]",
      "text/plain": [
       "<matplotlib.figure.Figure at 0x110bb95f8>"
      ]
     },
     "metadata": {},
     "output_type": "display_data"
    }
   ],
   "source": [
    "# Set up data for the plot\n",
    "avg_score_per_n_value_small = np.mean(all_scores_n_values_small, axis=0)\n",
    "\n",
    "# Set up plot\n",
    "plt.figure(figsize=(8,4))\n",
    "plt.xlabel(\"N_estimators hyperparameter\")\n",
    "plt.ylabel(\"Log loss on development data\")\n",
    "plt.title(\"Random Forest Model: Tuning smaller values of n_estimators hyperparameter\")\n",
    "plt.plot(n_values, avg_score_per_n_value_small, c=\"cornflowerblue\", linewidth=1.0)\n",
    "plt.scatter(all_n_values_small, all_scores_n_values_small, c = \"darkblue\", s=10)\n",
    "plt.axhline(y=2.614, linewidth=0.5, color = 'mediumorchid')\n",
    "plt.axhline(y=2.619, linewidth=0.5, color = 'mediumorchid')\n",
    "plt.show()\n",
    "#plt.savefig(\"Images/Optimal_N_Small_58Features.png\")"
   ]
  },
  {
   "cell_type": "markdown",
   "metadata": {},
   "source": [
    "#### Combine optimal hyperparameters\n",
    "For each hyperparameter above, we isolated variation to that single hyperparameter with non-optimal values of other hyperparameters to reduce computational cost.  Now we combine smaller variations of hyperparameters around its respective optimal value to confirm that they are all working well together. We're looking for the combination to return equal or better log losses to the best values above (which were between 2.422 through 2.438).\n",
    "\n",
    "*NOTE* This code is taking ahile to run, so I'll try it out and upload it later. --Laura "
   ]
  },
  {
   "cell_type": "code",
   "execution_count": 212,
   "metadata": {},
   "outputs": [
    {
     "ename": "KeyboardInterrupt",
     "evalue": "",
     "output_type": "error",
     "traceback": [
      "\u001b[0;31m---------------------------------------------------------------------------\u001b[0m",
      "\u001b[0;31mKeyboardInterrupt\u001b[0m                         Traceback (most recent call last)",
      "\u001b[0;32m<ipython-input-212-eae526d35a38>\u001b[0m in \u001b[0;36m<module>\u001b[0;34m()\u001b[0m\n\u001b[1;32m     14\u001b[0m             \u001b[0;32mfor\u001b[0m \u001b[0mfeatures\u001b[0m \u001b[0;32min\u001b[0m \u001b[0mmax_features_values\u001b[0m\u001b[0;34m:\u001b[0m\u001b[0;34m\u001b[0m\u001b[0m\n\u001b[1;32m     15\u001b[0m                 \u001b[0mRF\u001b[0m \u001b[0;34m=\u001b[0m \u001b[0mRandomForestClassifier\u001b[0m\u001b[0;34m(\u001b[0m\u001b[0mn_estimators\u001b[0m\u001b[0;34m=\u001b[0m\u001b[0mn\u001b[0m\u001b[0;34m,\u001b[0m \u001b[0mmax_depth\u001b[0m\u001b[0;34m=\u001b[0m\u001b[0mdepth\u001b[0m\u001b[0;34m,\u001b[0m \u001b[0mmax_features\u001b[0m\u001b[0;34m=\u001b[0m\u001b[0mfeatures\u001b[0m\u001b[0;34m,\u001b[0m \u001b[0mn_jobs\u001b[0m\u001b[0;34m=\u001b[0m\u001b[0;36m1\u001b[0m\u001b[0;34m)\u001b[0m\u001b[0;34m\u001b[0m\u001b[0m\n\u001b[0;32m---> 16\u001b[0;31m                 \u001b[0mRF\u001b[0m\u001b[0;34m.\u001b[0m\u001b[0mfit\u001b[0m\u001b[0;34m(\u001b[0m\u001b[0mtrain_data\u001b[0m\u001b[0;34m,\u001b[0m \u001b[0mtrain_labels\u001b[0m\u001b[0;34m)\u001b[0m\u001b[0;34m\u001b[0m\u001b[0m\n\u001b[0m\u001b[1;32m     17\u001b[0m                 \u001b[0mpp_dev\u001b[0m \u001b[0;34m=\u001b[0m \u001b[0mRF\u001b[0m\u001b[0;34m.\u001b[0m\u001b[0mpredict_proba\u001b[0m\u001b[0;34m(\u001b[0m\u001b[0mdev_data\u001b[0m\u001b[0;34m)\u001b[0m\u001b[0;34m\u001b[0m\u001b[0m\n\u001b[1;32m     18\u001b[0m                 \u001b[0mlogloss_dev\u001b[0m \u001b[0;34m=\u001b[0m \u001b[0mmetrics\u001b[0m\u001b[0;34m.\u001b[0m\u001b[0mlog_loss\u001b[0m\u001b[0;34m(\u001b[0m\u001b[0mdev_labels\u001b[0m\u001b[0;34m,\u001b[0m \u001b[0mpp_dev\u001b[0m\u001b[0;34m)\u001b[0m\u001b[0;34m\u001b[0m\u001b[0m\n",
      "\u001b[0;32m/Users/laura/anaconda3/lib/python3.6/site-packages/sklearn/ensemble/forest.py\u001b[0m in \u001b[0;36mfit\u001b[0;34m(self, X, y, sample_weight)\u001b[0m\n\u001b[1;32m    325\u001b[0m                     \u001b[0mt\u001b[0m\u001b[0;34m,\u001b[0m \u001b[0mself\u001b[0m\u001b[0;34m,\u001b[0m \u001b[0mX\u001b[0m\u001b[0;34m,\u001b[0m \u001b[0my\u001b[0m\u001b[0;34m,\u001b[0m \u001b[0msample_weight\u001b[0m\u001b[0;34m,\u001b[0m \u001b[0mi\u001b[0m\u001b[0;34m,\u001b[0m \u001b[0mlen\u001b[0m\u001b[0;34m(\u001b[0m\u001b[0mtrees\u001b[0m\u001b[0;34m)\u001b[0m\u001b[0;34m,\u001b[0m\u001b[0;34m\u001b[0m\u001b[0m\n\u001b[1;32m    326\u001b[0m                     verbose=self.verbose, class_weight=self.class_weight)\n\u001b[0;32m--> 327\u001b[0;31m                 for i, t in enumerate(trees))\n\u001b[0m\u001b[1;32m    328\u001b[0m \u001b[0;34m\u001b[0m\u001b[0m\n\u001b[1;32m    329\u001b[0m             \u001b[0;31m# Collect newly grown trees\u001b[0m\u001b[0;34m\u001b[0m\u001b[0;34m\u001b[0m\u001b[0m\n",
      "\u001b[0;32m/Users/laura/anaconda3/lib/python3.6/site-packages/sklearn/externals/joblib/parallel.py\u001b[0m in \u001b[0;36m__call__\u001b[0;34m(self, iterable)\u001b[0m\n\u001b[1;32m    777\u001b[0m             \u001b[0;31m# was dispatched. In particular this covers the edge\u001b[0m\u001b[0;34m\u001b[0m\u001b[0;34m\u001b[0m\u001b[0m\n\u001b[1;32m    778\u001b[0m             \u001b[0;31m# case of Parallel used with an exhausted iterator.\u001b[0m\u001b[0;34m\u001b[0m\u001b[0;34m\u001b[0m\u001b[0m\n\u001b[0;32m--> 779\u001b[0;31m             \u001b[0;32mwhile\u001b[0m \u001b[0mself\u001b[0m\u001b[0;34m.\u001b[0m\u001b[0mdispatch_one_batch\u001b[0m\u001b[0;34m(\u001b[0m\u001b[0miterator\u001b[0m\u001b[0;34m)\u001b[0m\u001b[0;34m:\u001b[0m\u001b[0;34m\u001b[0m\u001b[0m\n\u001b[0m\u001b[1;32m    780\u001b[0m                 \u001b[0mself\u001b[0m\u001b[0;34m.\u001b[0m\u001b[0m_iterating\u001b[0m \u001b[0;34m=\u001b[0m \u001b[0;32mTrue\u001b[0m\u001b[0;34m\u001b[0m\u001b[0m\n\u001b[1;32m    781\u001b[0m             \u001b[0;32melse\u001b[0m\u001b[0;34m:\u001b[0m\u001b[0;34m\u001b[0m\u001b[0m\n",
      "\u001b[0;32m/Users/laura/anaconda3/lib/python3.6/site-packages/sklearn/externals/joblib/parallel.py\u001b[0m in \u001b[0;36mdispatch_one_batch\u001b[0;34m(self, iterator)\u001b[0m\n\u001b[1;32m    623\u001b[0m                 \u001b[0;32mreturn\u001b[0m \u001b[0;32mFalse\u001b[0m\u001b[0;34m\u001b[0m\u001b[0m\n\u001b[1;32m    624\u001b[0m             \u001b[0;32melse\u001b[0m\u001b[0;34m:\u001b[0m\u001b[0;34m\u001b[0m\u001b[0m\n\u001b[0;32m--> 625\u001b[0;31m                 \u001b[0mself\u001b[0m\u001b[0;34m.\u001b[0m\u001b[0m_dispatch\u001b[0m\u001b[0;34m(\u001b[0m\u001b[0mtasks\u001b[0m\u001b[0;34m)\u001b[0m\u001b[0;34m\u001b[0m\u001b[0m\n\u001b[0m\u001b[1;32m    626\u001b[0m                 \u001b[0;32mreturn\u001b[0m \u001b[0;32mTrue\u001b[0m\u001b[0;34m\u001b[0m\u001b[0m\n\u001b[1;32m    627\u001b[0m \u001b[0;34m\u001b[0m\u001b[0m\n",
      "\u001b[0;32m/Users/laura/anaconda3/lib/python3.6/site-packages/sklearn/externals/joblib/parallel.py\u001b[0m in \u001b[0;36m_dispatch\u001b[0;34m(self, batch)\u001b[0m\n\u001b[1;32m    586\u001b[0m         \u001b[0mdispatch_timestamp\u001b[0m \u001b[0;34m=\u001b[0m \u001b[0mtime\u001b[0m\u001b[0;34m.\u001b[0m\u001b[0mtime\u001b[0m\u001b[0;34m(\u001b[0m\u001b[0;34m)\u001b[0m\u001b[0;34m\u001b[0m\u001b[0m\n\u001b[1;32m    587\u001b[0m         \u001b[0mcb\u001b[0m \u001b[0;34m=\u001b[0m \u001b[0mBatchCompletionCallBack\u001b[0m\u001b[0;34m(\u001b[0m\u001b[0mdispatch_timestamp\u001b[0m\u001b[0;34m,\u001b[0m \u001b[0mlen\u001b[0m\u001b[0;34m(\u001b[0m\u001b[0mbatch\u001b[0m\u001b[0;34m)\u001b[0m\u001b[0;34m,\u001b[0m \u001b[0mself\u001b[0m\u001b[0;34m)\u001b[0m\u001b[0;34m\u001b[0m\u001b[0m\n\u001b[0;32m--> 588\u001b[0;31m         \u001b[0mjob\u001b[0m \u001b[0;34m=\u001b[0m \u001b[0mself\u001b[0m\u001b[0;34m.\u001b[0m\u001b[0m_backend\u001b[0m\u001b[0;34m.\u001b[0m\u001b[0mapply_async\u001b[0m\u001b[0;34m(\u001b[0m\u001b[0mbatch\u001b[0m\u001b[0;34m,\u001b[0m \u001b[0mcallback\u001b[0m\u001b[0;34m=\u001b[0m\u001b[0mcb\u001b[0m\u001b[0;34m)\u001b[0m\u001b[0;34m\u001b[0m\u001b[0m\n\u001b[0m\u001b[1;32m    589\u001b[0m         \u001b[0mself\u001b[0m\u001b[0;34m.\u001b[0m\u001b[0m_jobs\u001b[0m\u001b[0;34m.\u001b[0m\u001b[0mappend\u001b[0m\u001b[0;34m(\u001b[0m\u001b[0mjob\u001b[0m\u001b[0;34m)\u001b[0m\u001b[0;34m\u001b[0m\u001b[0m\n\u001b[1;32m    590\u001b[0m \u001b[0;34m\u001b[0m\u001b[0m\n",
      "\u001b[0;32m/Users/laura/anaconda3/lib/python3.6/site-packages/sklearn/externals/joblib/_parallel_backends.py\u001b[0m in \u001b[0;36mapply_async\u001b[0;34m(self, func, callback)\u001b[0m\n\u001b[1;32m    109\u001b[0m     \u001b[0;32mdef\u001b[0m \u001b[0mapply_async\u001b[0m\u001b[0;34m(\u001b[0m\u001b[0mself\u001b[0m\u001b[0;34m,\u001b[0m \u001b[0mfunc\u001b[0m\u001b[0;34m,\u001b[0m \u001b[0mcallback\u001b[0m\u001b[0;34m=\u001b[0m\u001b[0;32mNone\u001b[0m\u001b[0;34m)\u001b[0m\u001b[0;34m:\u001b[0m\u001b[0;34m\u001b[0m\u001b[0m\n\u001b[1;32m    110\u001b[0m         \u001b[0;34m\"\"\"Schedule a func to be run\"\"\"\u001b[0m\u001b[0;34m\u001b[0m\u001b[0m\n\u001b[0;32m--> 111\u001b[0;31m         \u001b[0mresult\u001b[0m \u001b[0;34m=\u001b[0m \u001b[0mImmediateResult\u001b[0m\u001b[0;34m(\u001b[0m\u001b[0mfunc\u001b[0m\u001b[0;34m)\u001b[0m\u001b[0;34m\u001b[0m\u001b[0m\n\u001b[0m\u001b[1;32m    112\u001b[0m         \u001b[0;32mif\u001b[0m \u001b[0mcallback\u001b[0m\u001b[0;34m:\u001b[0m\u001b[0;34m\u001b[0m\u001b[0m\n\u001b[1;32m    113\u001b[0m             \u001b[0mcallback\u001b[0m\u001b[0;34m(\u001b[0m\u001b[0mresult\u001b[0m\u001b[0;34m)\u001b[0m\u001b[0;34m\u001b[0m\u001b[0m\n",
      "\u001b[0;32m/Users/laura/anaconda3/lib/python3.6/site-packages/sklearn/externals/joblib/_parallel_backends.py\u001b[0m in \u001b[0;36m__init__\u001b[0;34m(self, batch)\u001b[0m\n\u001b[1;32m    330\u001b[0m         \u001b[0;31m# Don't delay the application, to avoid keeping the input\u001b[0m\u001b[0;34m\u001b[0m\u001b[0;34m\u001b[0m\u001b[0m\n\u001b[1;32m    331\u001b[0m         \u001b[0;31m# arguments in memory\u001b[0m\u001b[0;34m\u001b[0m\u001b[0;34m\u001b[0m\u001b[0m\n\u001b[0;32m--> 332\u001b[0;31m         \u001b[0mself\u001b[0m\u001b[0;34m.\u001b[0m\u001b[0mresults\u001b[0m \u001b[0;34m=\u001b[0m \u001b[0mbatch\u001b[0m\u001b[0;34m(\u001b[0m\u001b[0;34m)\u001b[0m\u001b[0;34m\u001b[0m\u001b[0m\n\u001b[0m\u001b[1;32m    333\u001b[0m \u001b[0;34m\u001b[0m\u001b[0m\n\u001b[1;32m    334\u001b[0m     \u001b[0;32mdef\u001b[0m \u001b[0mget\u001b[0m\u001b[0;34m(\u001b[0m\u001b[0mself\u001b[0m\u001b[0;34m)\u001b[0m\u001b[0;34m:\u001b[0m\u001b[0;34m\u001b[0m\u001b[0m\n",
      "\u001b[0;32m/Users/laura/anaconda3/lib/python3.6/site-packages/sklearn/externals/joblib/parallel.py\u001b[0m in \u001b[0;36m__call__\u001b[0;34m(self)\u001b[0m\n\u001b[1;32m    129\u001b[0m \u001b[0;34m\u001b[0m\u001b[0m\n\u001b[1;32m    130\u001b[0m     \u001b[0;32mdef\u001b[0m \u001b[0m__call__\u001b[0m\u001b[0;34m(\u001b[0m\u001b[0mself\u001b[0m\u001b[0;34m)\u001b[0m\u001b[0;34m:\u001b[0m\u001b[0;34m\u001b[0m\u001b[0m\n\u001b[0;32m--> 131\u001b[0;31m         \u001b[0;32mreturn\u001b[0m \u001b[0;34m[\u001b[0m\u001b[0mfunc\u001b[0m\u001b[0;34m(\u001b[0m\u001b[0;34m*\u001b[0m\u001b[0margs\u001b[0m\u001b[0;34m,\u001b[0m \u001b[0;34m**\u001b[0m\u001b[0mkwargs\u001b[0m\u001b[0;34m)\u001b[0m \u001b[0;32mfor\u001b[0m \u001b[0mfunc\u001b[0m\u001b[0;34m,\u001b[0m \u001b[0margs\u001b[0m\u001b[0;34m,\u001b[0m \u001b[0mkwargs\u001b[0m \u001b[0;32min\u001b[0m \u001b[0mself\u001b[0m\u001b[0;34m.\u001b[0m\u001b[0mitems\u001b[0m\u001b[0;34m]\u001b[0m\u001b[0;34m\u001b[0m\u001b[0m\n\u001b[0m\u001b[1;32m    132\u001b[0m \u001b[0;34m\u001b[0m\u001b[0m\n\u001b[1;32m    133\u001b[0m     \u001b[0;32mdef\u001b[0m \u001b[0m__len__\u001b[0m\u001b[0;34m(\u001b[0m\u001b[0mself\u001b[0m\u001b[0;34m)\u001b[0m\u001b[0;34m:\u001b[0m\u001b[0;34m\u001b[0m\u001b[0m\n",
      "\u001b[0;32m/Users/laura/anaconda3/lib/python3.6/site-packages/sklearn/externals/joblib/parallel.py\u001b[0m in \u001b[0;36m<listcomp>\u001b[0;34m(.0)\u001b[0m\n\u001b[1;32m    129\u001b[0m \u001b[0;34m\u001b[0m\u001b[0m\n\u001b[1;32m    130\u001b[0m     \u001b[0;32mdef\u001b[0m \u001b[0m__call__\u001b[0m\u001b[0;34m(\u001b[0m\u001b[0mself\u001b[0m\u001b[0;34m)\u001b[0m\u001b[0;34m:\u001b[0m\u001b[0;34m\u001b[0m\u001b[0m\n\u001b[0;32m--> 131\u001b[0;31m         \u001b[0;32mreturn\u001b[0m \u001b[0;34m[\u001b[0m\u001b[0mfunc\u001b[0m\u001b[0;34m(\u001b[0m\u001b[0;34m*\u001b[0m\u001b[0margs\u001b[0m\u001b[0;34m,\u001b[0m \u001b[0;34m**\u001b[0m\u001b[0mkwargs\u001b[0m\u001b[0;34m)\u001b[0m \u001b[0;32mfor\u001b[0m \u001b[0mfunc\u001b[0m\u001b[0;34m,\u001b[0m \u001b[0margs\u001b[0m\u001b[0;34m,\u001b[0m \u001b[0mkwargs\u001b[0m \u001b[0;32min\u001b[0m \u001b[0mself\u001b[0m\u001b[0;34m.\u001b[0m\u001b[0mitems\u001b[0m\u001b[0;34m]\u001b[0m\u001b[0;34m\u001b[0m\u001b[0m\n\u001b[0m\u001b[1;32m    132\u001b[0m \u001b[0;34m\u001b[0m\u001b[0m\n\u001b[1;32m    133\u001b[0m     \u001b[0;32mdef\u001b[0m \u001b[0m__len__\u001b[0m\u001b[0;34m(\u001b[0m\u001b[0mself\u001b[0m\u001b[0;34m)\u001b[0m\u001b[0;34m:\u001b[0m\u001b[0;34m\u001b[0m\u001b[0m\n",
      "\u001b[0;32m/Users/laura/anaconda3/lib/python3.6/site-packages/sklearn/ensemble/forest.py\u001b[0m in \u001b[0;36m_parallel_build_trees\u001b[0;34m(tree, forest, X, y, sample_weight, tree_idx, n_trees, verbose, class_weight)\u001b[0m\n\u001b[1;32m    118\u001b[0m             \u001b[0mcurr_sample_weight\u001b[0m \u001b[0;34m*=\u001b[0m \u001b[0mcompute_sample_weight\u001b[0m\u001b[0;34m(\u001b[0m\u001b[0;34m'balanced'\u001b[0m\u001b[0;34m,\u001b[0m \u001b[0my\u001b[0m\u001b[0;34m,\u001b[0m \u001b[0mindices\u001b[0m\u001b[0;34m)\u001b[0m\u001b[0;34m\u001b[0m\u001b[0m\n\u001b[1;32m    119\u001b[0m \u001b[0;34m\u001b[0m\u001b[0m\n\u001b[0;32m--> 120\u001b[0;31m         \u001b[0mtree\u001b[0m\u001b[0;34m.\u001b[0m\u001b[0mfit\u001b[0m\u001b[0;34m(\u001b[0m\u001b[0mX\u001b[0m\u001b[0;34m,\u001b[0m \u001b[0my\u001b[0m\u001b[0;34m,\u001b[0m \u001b[0msample_weight\u001b[0m\u001b[0;34m=\u001b[0m\u001b[0mcurr_sample_weight\u001b[0m\u001b[0;34m,\u001b[0m \u001b[0mcheck_input\u001b[0m\u001b[0;34m=\u001b[0m\u001b[0;32mFalse\u001b[0m\u001b[0;34m)\u001b[0m\u001b[0;34m\u001b[0m\u001b[0m\n\u001b[0m\u001b[1;32m    121\u001b[0m     \u001b[0;32melse\u001b[0m\u001b[0;34m:\u001b[0m\u001b[0;34m\u001b[0m\u001b[0m\n\u001b[1;32m    122\u001b[0m         \u001b[0mtree\u001b[0m\u001b[0;34m.\u001b[0m\u001b[0mfit\u001b[0m\u001b[0;34m(\u001b[0m\u001b[0mX\u001b[0m\u001b[0;34m,\u001b[0m \u001b[0my\u001b[0m\u001b[0;34m,\u001b[0m \u001b[0msample_weight\u001b[0m\u001b[0;34m=\u001b[0m\u001b[0msample_weight\u001b[0m\u001b[0;34m,\u001b[0m \u001b[0mcheck_input\u001b[0m\u001b[0;34m=\u001b[0m\u001b[0;32mFalse\u001b[0m\u001b[0;34m)\u001b[0m\u001b[0;34m\u001b[0m\u001b[0m\n",
      "\u001b[0;32m/Users/laura/anaconda3/lib/python3.6/site-packages/sklearn/tree/tree.py\u001b[0m in \u001b[0;36mfit\u001b[0;34m(self, X, y, sample_weight, check_input, X_idx_sorted)\u001b[0m\n\u001b[1;32m    788\u001b[0m             \u001b[0msample_weight\u001b[0m\u001b[0;34m=\u001b[0m\u001b[0msample_weight\u001b[0m\u001b[0;34m,\u001b[0m\u001b[0;34m\u001b[0m\u001b[0m\n\u001b[1;32m    789\u001b[0m             \u001b[0mcheck_input\u001b[0m\u001b[0;34m=\u001b[0m\u001b[0mcheck_input\u001b[0m\u001b[0;34m,\u001b[0m\u001b[0;34m\u001b[0m\u001b[0m\n\u001b[0;32m--> 790\u001b[0;31m             X_idx_sorted=X_idx_sorted)\n\u001b[0m\u001b[1;32m    791\u001b[0m         \u001b[0;32mreturn\u001b[0m \u001b[0mself\u001b[0m\u001b[0;34m\u001b[0m\u001b[0m\n\u001b[1;32m    792\u001b[0m \u001b[0;34m\u001b[0m\u001b[0m\n",
      "\u001b[0;32m/Users/laura/anaconda3/lib/python3.6/site-packages/sklearn/tree/tree.py\u001b[0m in \u001b[0;36mfit\u001b[0;34m(self, X, y, sample_weight, check_input, X_idx_sorted)\u001b[0m\n\u001b[1;32m    360\u001b[0m                                            min_impurity_split)\n\u001b[1;32m    361\u001b[0m \u001b[0;34m\u001b[0m\u001b[0m\n\u001b[0;32m--> 362\u001b[0;31m         \u001b[0mbuilder\u001b[0m\u001b[0;34m.\u001b[0m\u001b[0mbuild\u001b[0m\u001b[0;34m(\u001b[0m\u001b[0mself\u001b[0m\u001b[0;34m.\u001b[0m\u001b[0mtree_\u001b[0m\u001b[0;34m,\u001b[0m \u001b[0mX\u001b[0m\u001b[0;34m,\u001b[0m \u001b[0my\u001b[0m\u001b[0;34m,\u001b[0m \u001b[0msample_weight\u001b[0m\u001b[0;34m,\u001b[0m \u001b[0mX_idx_sorted\u001b[0m\u001b[0;34m)\u001b[0m\u001b[0;34m\u001b[0m\u001b[0m\n\u001b[0m\u001b[1;32m    363\u001b[0m \u001b[0;34m\u001b[0m\u001b[0m\n\u001b[1;32m    364\u001b[0m         \u001b[0;32mif\u001b[0m \u001b[0mself\u001b[0m\u001b[0;34m.\u001b[0m\u001b[0mn_outputs_\u001b[0m \u001b[0;34m==\u001b[0m \u001b[0;36m1\u001b[0m\u001b[0;34m:\u001b[0m\u001b[0;34m\u001b[0m\u001b[0m\n",
      "\u001b[0;31mKeyboardInterrupt\u001b[0m: "
     ]
    }
   ],
   "source": [
    "# Initialize variable to hold scores\n",
    "optimal_scores = []\n",
    "\n",
    "# Set up variables\n",
    "n_values = [150]\n",
    "depth_values = [16, 17]\n",
    "max_features_values = [0.40, 0.50]\n",
    "iterations = 1\n",
    "\n",
    "# Run models and record scores\n",
    "for i in range(iterations):\n",
    "    for n in n_values:\n",
    "        for depth in depth_values:\n",
    "            for features in max_features_values:\n",
    "                RF = RandomForestClassifier(n_estimators=n, max_depth=depth, max_features=features, n_jobs=1)\n",
    "                RF.fit(train_data, train_labels)\n",
    "                pp_dev = RF.predict_proba(dev_data)\n",
    "                logloss_dev = metrics.log_loss(dev_labels, pp_dev)\n",
    "                # Also fit the model back onto the training dat to test for overfitting\n",
    "                pp_train = RF.predict_proba(train_data)\n",
    "                logloss_train = metrics.log_loss(train_labels, pp_train)\n",
    "                optimal_scores.append([n, features, depth, logloss_dev, logloss_train])\n",
    "# Print scores\n",
    "for i in range(len(optimal_scores)):\n",
    "    print(\"Model\", i+1, \"has an of\", n, \"and max_features of\", features, \n",
    "    \"and max_depth of\", depth, \"- log loss on dev_data is \", logloss_dev)\n",
    "    "
   ]
  },
  {
   "cell_type": "code",
   "execution_count": null,
   "metadata": {
    "collapsed": true
   },
   "outputs": [],
   "source": [
    "    \n",
    "# Plot log loss on training data vs. development data\n",
    "logloss_dev_scores = []\n",
    "logloss_train_scores = []\n",
    "for i in range(len(optimal_scores)):\n",
    "    logloss_dev_scores.append(optimal_scores[i][3])\n",
    "    logloss_train_scores.append(optimal_scores[i][4])\n",
    "plt.figure(figsize=(8,4))\n",
    "plt.xlabel(\"Log loss score on development data\")\n",
    "plt.ylabel(\"Log loss score on training data\")\n",
    "plt.title(\"Overfitting test: compare error on training data to development data\")\n",
    "plt.plot(logloss_dev_scores, logloss_train_scores, c=\"blueviolet\", linewidth=2.0)\n",
    "# plt.scatter(all_n_values, all_scores_n_values, c = \"darkblue\", s=10)\n",
    "#plt.axhline(y=2.530, linewidth=0.5, color = 'mediumorchid')\n",
    "#plt.axhline(y=2.542, linewidth=0.5, color = 'mediumorchid')\n",
    "# Is it possible to plot the even diagonal against which to compare?\n",
    "# plt.plot([0, 1, 2, 3], [0, 1, 2, 33], '--', c=\"black\")\n",
    "plt.show()"
   ]
  },
  {
   "cell_type": "markdown",
   "metadata": {},
   "source": [
    "### Final model\n",
    "After experimenting with all hyperparameters above using 80% of the training data and testing on 20% held back development data, we train a model on the full training set using the best parameters, and create predictions on the test set to submit to Kaggle."
   ]
  },
  {
   "cell_type": "code",
   "execution_count": 8,
   "metadata": {
    "collapsed": true
   },
   "outputs": [],
   "source": [
    "# Train model with optimal hyperparameters on the full set of training data\n",
    "# Make predictions on the test data\n",
    "depth = 16\n",
    "n = 150\n",
    "features = 0.40\n",
    "RF, pp = TrainRF(train_data_all, train_labels_all, test_data_all, n, depth, features)"
   ]
  },
  {
   "cell_type": "markdown",
   "metadata": {},
   "source": [
    "## Boosted Decision Tree\n",
    "We wanted to try AdaBoost with the Decision Tree Classifier because sometimes this combination does better than the Random Forest classifier.  We tested this model with the dataset that had 58 features. We found that this classidifer did not do better than the Random Forest classifer but it got pretty close.\n",
    "\n",
    "First we set up some functions for testing the hyperparameters in AdaBoost and the single Decision Tree classifier, because these are somewhat different than the Random Forest Classifier."
   ]
  },
  {
   "cell_type": "code",
   "execution_count": 36,
   "metadata": {
    "collapsed": true
   },
   "outputs": [],
   "source": [
    "# Set up functions for boosted trees and finding optimal hyperparameters\n",
    "\n",
    "def BoostedTree(data, labels, test_data, learn=1.0, n=10, depth=1):\n",
    "    \"\"\"This function takes in training data and labels, testing data,\n",
    "    and can accept different values of n (number of estimators), \n",
    "    max_depth of the decision tree\n",
    "    and can also accept different values of learning rate for the booster\n",
    "    \n",
    "    It trains a Boosted Decision Tree and returns the model and predicted probabilities.\n",
    "    \"\"\"\n",
    "    Boost = AdaBoostClassifier(DecisionTreeClassifier(max_depth=depth), \n",
    "                               n_estimators=n, \n",
    "                               learning_rate=learn)\n",
    "    Boost.fit(data, labels)\n",
    "    pp = Boost.predict_proba(test_data)\n",
    "    return Boost, pp\n",
    "\n",
    "def find_learning_rate(data, labels, dev_data, dev_labels, learn_values):\n",
    "    \"\"\"Find optimal learning rate in an AdaBoost model on a decision tree. \n",
    "    \n",
    "    Note that this cannot be used on test data from Kaggle \n",
    "    because we do not have labels for that data.  This function is intended to only be used\n",
    "    in the development stage with the development data.    \n",
    "    \"\"\"\n",
    "    for learn in learn_values:      \n",
    "        Boost, pp = BoostedTree(data, labels, dev_data, learn)\n",
    "        logloss = metrics.log_loss(dev_labels, pp)\n",
    "        \n",
    "        # Print log loss for each value of k\n",
    "        print(\"For learning rate =\", learn, \"the Log Loss score is\", round(logloss, 6))  \n",
    "        \n",
    "def find_n_learn(data, labels, dev_data, dev_labels, learn_values, n_values):\n",
    "    \"\"\"There is a tradeoff in boosting between learning rate and n_estimators.\n",
    "    This function looks for the optimal combination of learning rate and n_estimators.\n",
    "    \"\"\"\n",
    "    for learn in learn_values:\n",
    "        for n in n_values:\n",
    "            Boost, pp = BoostedTree(data, labels, dev_data, learn, n)\n",
    "            logloss = metrics.log_loss(dev_labels, pp)        \n",
    "            # Print log loss for each combined value of learning rate and n_estimators:\n",
    "            print(\"For learning rate =\", learn, \"and n value\", n, \"the Log Loss score is\", round(logloss, 6))  \n",
    "        \n",
    "def find_max_depth(data, labels, dev_data, dev_labels, learn, n, depth_values):\n",
    "    \"\"\"Find optimal value of max_depth in the boosted model \n",
    "    given optimal combination of learning rate and n_estimators    \n",
    "    \"\"\"\n",
    "    for d in depth_values:      \n",
    "        BT, pp = BoostedTree(data, labels, dev_data, learn, n, d)\n",
    "        logloss = metrics.log_loss(dev_labels, pp)        \n",
    "        # Print log loss for each value\n",
    "        print(\"For max_depth =\", d, \"the Log Loss score is\", round(logloss, 6))         \n"
   ]
  },
  {
   "cell_type": "markdown",
   "metadata": {},
   "source": [
    "First we trained a boosted decision tree model with some basic hyperparameters, which are a max_depth of 1.0, number of estimators as 10, and a learning rate of 1.0."
   ]
  },
  {
   "cell_type": "code",
   "execution_count": 24,
   "metadata": {},
   "outputs": [
    {
     "name": "stdout",
     "output_type": "stream",
     "text": [
      "3.39454132531\n"
     ]
    }
   ],
   "source": [
    "Boost, pp = BoostedTree(train_data, train_labels, dev_data)\n",
    "logloss = metrics.log_loss(dev_labels, pp)\n",
    "print(logloss)"
   ]
  },
  {
   "cell_type": "markdown",
   "metadata": {},
   "source": [
    "#### Learning rate\n",
    "The first hyperparameter we tested was the learning rate for the AdaBoost classifier. We found an optimal learning rate of 0.01."
   ]
  },
  {
   "cell_type": "code",
   "execution_count": 23,
   "metadata": {},
   "outputs": [
    {
     "name": "stdout",
     "output_type": "stream",
     "text": [
      "For learning rate = 0.0001 the Log Loss score is 2.647279\n",
      "For learning rate = 0.001 the Log Loss score is 2.647272\n",
      "For learning rate = 0.01 the Log Loss score is 2.644091\n",
      "For learning rate = 0.05 the Log Loss score is 2.658273\n",
      "For learning rate = 0.1 the Log Loss score is 2.712374\n",
      "For learning rate = 0.5 the Log Loss score is 3.183055\n",
      "For learning rate = 1 the Log Loss score is 3.394541\n"
     ]
    }
   ],
   "source": [
    "# Find the optimal learning rate for default value of n=10 and max_depth of 1.\n",
    "learn_values = [.0001, .001, .01, .05, .1, .5, 1.0]\n",
    "find_learning_rate(train_data, train_labels, dev_data, dev_labels, learn_values)"
   ]
  },
  {
   "cell_type": "markdown",
   "metadata": {},
   "source": [
    "#### Max_depth vs. learning rate\n",
    "In boosted decision trees, there can be a trade off between learning rate and the number of models create (n_estimators) so while max_depth=1, we iterated through a few learning rate values and value of n. We found a slightly different optimal combination with a learning rate of 0.001 and n=100, but it did not appear to do dramatically better than the previous set of hyperparameters."
   ]
  },
  {
   "cell_type": "code",
   "execution_count": 40,
   "metadata": {},
   "outputs": [
    {
     "name": "stdout",
     "output_type": "stream",
     "text": [
      "For learning rate = 0.0001 and n value 50 the Log Loss score is 2.647274\n",
      "For learning rate = 0.0001 and n value 100 the Log Loss score is 2.647273\n",
      "For learning rate = 0.0001 and n value 250 the Log Loss score is 2.647309\n",
      "For learning rate = 0.001 and n value 50 the Log Loss score is 2.647485\n",
      "For learning rate = 0.001 and n value 100 the Log Loss score is 2.643299\n",
      "For learning rate = 0.001 and n value 250 the Log Loss score is 2.644949\n",
      "For learning rate = 0.01 and n value 50 the Log Loss score is 2.662126\n",
      "For learning rate = 0.01 and n value 100 the Log Loss score is 2.721616\n",
      "For learning rate = 0.01 and n value 250 the Log Loss score is 2.941801\n",
      "For learning rate = 0.05 and n value 50 the Log Loss score is 2.939409\n",
      "For learning rate = 0.05 and n value 100 the Log Loss score is 3.189014\n",
      "For learning rate = 0.05 and n value 250 the Log Loss score is 3.434238\n",
      "For learning rate = 0.1 and n value 50 the Log Loss score is 3.187824\n",
      "For learning rate = 0.1 and n value 100 the Log Loss score is 3.387812\n",
      "For learning rate = 0.1 and n value 250 the Log Loss score is 3.530941\n"
     ]
    }
   ],
   "source": [
    "n_values = [50, 100, 250]\n",
    "learn_values = [.0001, .001, .01, .05, .1]\n",
    "find_n_learn(train_data, train_labels, dev_data, dev_labels, learn_values, n_values)"
   ]
  },
  {
   "cell_type": "markdown",
   "metadata": {},
   "source": [
    "#### Max_depth\n",
    "We looked at some different values of max_depth to see if they would improve the model. We found an optimal max_depth of 8."
   ]
  },
  {
   "cell_type": "code",
   "execution_count": 39,
   "metadata": {},
   "outputs": [
    {
     "name": "stdout",
     "output_type": "stream",
     "text": [
      "For max_depth = 3 the Log Loss score is 2.589809\n",
      "For max_depth = 5 the Log Loss score is 2.548867\n",
      "For max_depth = 6 the Log Loss score is 2.527923\n",
      "For max_depth = 7 the Log Loss score is 2.509453\n",
      "For max_depth = 8 the Log Loss score is 2.504026\n",
      "For max_depth = 9 the Log Loss score is 2.521608\n"
     ]
    }
   ],
   "source": [
    "learn = .01\n",
    "n = 10\n",
    "depth_values = [3, 5, 6, 7, 8, 9]\n",
    "find_max_depth(train_data, train_labels, dev_data, dev_labels, learn, n, depth_values)"
   ]
  },
  {
   "cell_type": "markdown",
   "metadata": {},
   "source": [
    "#### Final testing of the Boosted Decision Tree classifier\n",
    "We tried out a more granular set of max_depth with the optimal combination of learning rate and n_estimators we found above.  The classifier created a better model here than anywhere above, with a max_depth of 8, a learning rate of 0.001 and n_estiimators value of 100, but it still did not do better than the random forest model."
   ]
  },
  {
   "cell_type": "code",
   "execution_count": 41,
   "metadata": {},
   "outputs": [
    {
     "name": "stdout",
     "output_type": "stream",
     "text": [
      "For max_depth = 5 the Log Loss score is 2.548683\n",
      "For max_depth = 6 the Log Loss score is 2.527825\n",
      "For max_depth = 7 the Log Loss score is 2.50858\n",
      "For max_depth = 8 the Log Loss score is 2.502424\n",
      "For max_depth = 9 the Log Loss score is 2.518338\n",
      "For max_depth = 10 the Log Loss score is 2.567408\n"
     ]
    }
   ],
   "source": [
    "# See if changes to max_depth improves the model with a optimal specific learning rate and n\n",
    "learn = 0.001\n",
    "n = 100\n",
    "depth_values = [5, 6, 7, 8, 9, 10]\n",
    "find_max_depth(train_data, train_labels, dev_data, dev_labels, learn, n, depth_values)"
   ]
  },
  {
   "cell_type": "markdown",
   "metadata": {},
   "source": [
    "## Bagged Trees"
   ]
  },
  {
   "cell_type": "code",
   "execution_count": null,
   "metadata": {
    "collapsed": true
   },
   "outputs": [],
   "source": [
    "# Set up functions for training bagged trees and finding optimal hyperparameters\n",
    "\n",
    "# TBD, requires writing some code outside of sk learn\n",
    "\n"
   ]
  },
  {
   "cell_type": "markdown",
   "metadata": {},
   "source": [
    "## Create zipped csv file of probabilities to submit to Kaggle\n",
    "This code uses the predicted probabilities from the most recent model trained in this notebook, saved as the variable pp"
   ]
  },
  {
   "cell_type": "code",
   "execution_count": 9,
   "metadata": {},
   "outputs": [
    {
     "name": "stdout",
     "output_type": "stream",
     "text": [
      "Id         ARSON   ASSAULT  BAD CHECKS   BRIBERY  BURGLARY  \\\n",
      "0       0.000873  0.041185    0.000029  0.000063  0.013059   \n",
      "1       0.000873  0.041185    0.000029  0.000063  0.013059   \n",
      "2       0.000873  0.041185    0.000029  0.000063  0.013059   \n",
      "3       0.000873  0.041185    0.000029  0.000063  0.013059   \n",
      "4       0.000873  0.041185    0.000029  0.000063  0.013059   \n",
      "5       0.000873  0.041185    0.000029  0.000063  0.013059   \n",
      "6       0.000873  0.041185    0.000029  0.000063  0.013059   \n",
      "7       0.000873  0.041185    0.000029  0.000063  0.013059   \n",
      "8       0.000873  0.041185    0.000029  0.000063  0.013059   \n",
      "9       0.000873  0.041185    0.000029  0.000063  0.013059   \n",
      "10      0.000873  0.041185    0.000029  0.000063  0.013059   \n",
      "11      0.000873  0.041185    0.000029  0.000063  0.013059   \n",
      "12      0.000873  0.041185    0.000029  0.000063  0.013059   \n",
      "13      0.000873  0.041185    0.000029  0.000063  0.013059   \n",
      "14      0.000873  0.041185    0.000029  0.000063  0.013059   \n",
      "15      0.000873  0.041185    0.000029  0.000063  0.013059   \n",
      "16      0.000873  0.041185    0.000029  0.000063  0.013059   \n",
      "17      0.000873  0.041185    0.000029  0.000063  0.013059   \n",
      "18      0.000873  0.041185    0.000029  0.000063  0.013059   \n",
      "19      0.000873  0.041185    0.000029  0.000063  0.013059   \n",
      "20      0.000873  0.041185    0.000029  0.000063  0.013059   \n",
      "21      0.000873  0.041185    0.000029  0.000063  0.013059   \n",
      "22      0.000873  0.041185    0.000029  0.000063  0.013059   \n",
      "23      0.000873  0.041185    0.000029  0.000063  0.013059   \n",
      "24      0.000873  0.041185    0.000029  0.000063  0.013059   \n",
      "25      0.000873  0.041185    0.000029  0.000063  0.013059   \n",
      "26      0.000873  0.041185    0.000029  0.000063  0.013059   \n",
      "27      0.001870  0.061964    0.000035  0.000113  0.015451   \n",
      "28      0.000873  0.041185    0.000029  0.000063  0.013059   \n",
      "29      0.000873  0.041185    0.000029  0.000063  0.013059   \n",
      "...          ...       ...         ...       ...       ...   \n",
      "884232  0.000757  0.047696    0.000158  0.000056  0.012341   \n",
      "884233  0.000667  0.056823    0.000206  0.000051  0.013583   \n",
      "884234  0.000757  0.047696    0.000158  0.000056  0.012341   \n",
      "884235  0.000757  0.047696    0.000158  0.000056  0.012341   \n",
      "884236  0.000757  0.047696    0.000158  0.000056  0.012341   \n",
      "884237  0.000757  0.047696    0.000158  0.000056  0.012341   \n",
      "884238  0.000757  0.047696    0.000158  0.000056  0.012341   \n",
      "884239  0.000757  0.047696    0.000158  0.000056  0.012341   \n",
      "884240  0.000757  0.047696    0.000158  0.000056  0.012341   \n",
      "884241  0.000757  0.047696    0.000158  0.000056  0.012341   \n",
      "884242  0.000757  0.047696    0.000158  0.000056  0.012341   \n",
      "884243  0.000757  0.047696    0.000158  0.000056  0.012341   \n",
      "884244  0.000757  0.047696    0.000158  0.000056  0.012341   \n",
      "884245  0.000757  0.047696    0.000158  0.000056  0.012341   \n",
      "884246  0.000757  0.047696    0.000158  0.000056  0.012341   \n",
      "884247  0.000757  0.047696    0.000158  0.000056  0.012341   \n",
      "884248  0.000757  0.047696    0.000158  0.000056  0.012341   \n",
      "884249  0.000757  0.047696    0.000158  0.000056  0.012341   \n",
      "884250  0.000667  0.056823    0.000206  0.000051  0.013583   \n",
      "884251  0.000757  0.047696    0.000158  0.000056  0.012341   \n",
      "884252  0.000757  0.047696    0.000158  0.000056  0.012341   \n",
      "884253  0.000757  0.047696    0.000158  0.000056  0.012341   \n",
      "884254  0.000757  0.047696    0.000158  0.000056  0.012341   \n",
      "884255  0.000757  0.047696    0.000158  0.000056  0.012341   \n",
      "884256  0.000757  0.047696    0.000158  0.000056  0.012341   \n",
      "884257  0.000757  0.047696    0.000158  0.000056  0.012341   \n",
      "884258  0.000757  0.047696    0.000158  0.000056  0.012341   \n",
      "884259  0.000757  0.047696    0.000158  0.000056  0.012341   \n",
      "884260  0.000757  0.047696    0.000158  0.000056  0.012341   \n",
      "884261  0.000757  0.047696    0.000158  0.000056  0.012341   \n",
      "\n",
      "Id      DISORDERLY CONDUCT  DRIVING UNDER THE INFLUENCE  DRUG/NARCOTIC  \\\n",
      "0                 0.001722                     0.008363       0.030176   \n",
      "1                 0.001722                     0.008363       0.030176   \n",
      "2                 0.001722                     0.008363       0.030176   \n",
      "3                 0.001722                     0.008363       0.030176   \n",
      "4                 0.001722                     0.008363       0.030176   \n",
      "5                 0.001722                     0.008363       0.030176   \n",
      "6                 0.001722                     0.008363       0.030176   \n",
      "7                 0.001722                     0.008363       0.030176   \n",
      "8                 0.001722                     0.008363       0.030176   \n",
      "9                 0.001722                     0.008363       0.030176   \n",
      "10                0.001722                     0.008363       0.030176   \n",
      "11                0.001722                     0.008363       0.030176   \n",
      "12                0.001722                     0.008363       0.030176   \n",
      "13                0.001722                     0.008363       0.030176   \n",
      "14                0.001722                     0.008363       0.030176   \n",
      "15                0.001722                     0.008363       0.030176   \n",
      "16                0.001722                     0.008363       0.030176   \n",
      "17                0.001722                     0.008363       0.030176   \n",
      "18                0.001722                     0.008363       0.030176   \n",
      "19                0.001722                     0.008363       0.030176   \n",
      "20                0.001722                     0.008363       0.030176   \n",
      "21                0.001722                     0.008363       0.030176   \n",
      "22                0.001722                     0.008363       0.030176   \n",
      "23                0.001722                     0.008363       0.030176   \n",
      "24                0.001722                     0.008363       0.030176   \n",
      "25                0.001722                     0.008363       0.030176   \n",
      "26                0.001722                     0.008363       0.030176   \n",
      "27                0.002683                     0.005950       0.038311   \n",
      "28                0.001722                     0.008363       0.030176   \n",
      "29                0.001722                     0.008363       0.030176   \n",
      "...                    ...                          ...            ...   \n",
      "884232            0.003924                     0.003617       0.036178   \n",
      "884233            0.003266                     0.002590       0.054933   \n",
      "884234            0.003924                     0.003617       0.036178   \n",
      "884235            0.003924                     0.003617       0.036178   \n",
      "884236            0.003924                     0.003617       0.036178   \n",
      "884237            0.003924                     0.003617       0.036178   \n",
      "884238            0.003924                     0.003617       0.036178   \n",
      "884239            0.003924                     0.003617       0.036178   \n",
      "884240            0.003924                     0.003617       0.036178   \n",
      "884241            0.003924                     0.003617       0.036178   \n",
      "884242            0.003924                     0.003617       0.036178   \n",
      "884243            0.003924                     0.003617       0.036178   \n",
      "884244            0.003924                     0.003617       0.036178   \n",
      "884245            0.003924                     0.003617       0.036178   \n",
      "884246            0.003924                     0.003617       0.036178   \n",
      "884247            0.003924                     0.003617       0.036178   \n",
      "884248            0.003924                     0.003617       0.036178   \n",
      "884249            0.003924                     0.003617       0.036178   \n",
      "884250            0.003266                     0.002590       0.054933   \n",
      "884251            0.003924                     0.003617       0.036178   \n",
      "884252            0.003924                     0.003617       0.036178   \n",
      "884253            0.003924                     0.003617       0.036178   \n",
      "884254            0.003924                     0.003617       0.036178   \n",
      "884255            0.003924                     0.003617       0.036178   \n",
      "884256            0.003924                     0.003617       0.036178   \n",
      "884257            0.003924                     0.003617       0.036178   \n",
      "884258            0.003924                     0.003617       0.036178   \n",
      "884259            0.003924                     0.003617       0.036178   \n",
      "884260            0.003924                     0.003617       0.036178   \n",
      "884261            0.003924                     0.003617       0.036178   \n",
      "\n",
      "Id      DRUNKENNESS  EMBEZZLEMENT     ...       SEX OFFENSES NON FORCIBLE  \\\n",
      "0          0.004213      0.000145     ...                        0.000040   \n",
      "1          0.004213      0.000145     ...                        0.000040   \n",
      "2          0.004213      0.000145     ...                        0.000040   \n",
      "3          0.004213      0.000145     ...                        0.000040   \n",
      "4          0.004213      0.000145     ...                        0.000040   \n",
      "5          0.004213      0.000145     ...                        0.000040   \n",
      "6          0.004213      0.000145     ...                        0.000040   \n",
      "7          0.004213      0.000145     ...                        0.000040   \n",
      "8          0.004213      0.000145     ...                        0.000040   \n",
      "9          0.004213      0.000145     ...                        0.000040   \n",
      "10         0.004213      0.000145     ...                        0.000040   \n",
      "11         0.004213      0.000145     ...                        0.000040   \n",
      "12         0.004213      0.000145     ...                        0.000040   \n",
      "13         0.004213      0.000145     ...                        0.000040   \n",
      "14         0.004213      0.000145     ...                        0.000040   \n",
      "15         0.004213      0.000145     ...                        0.000040   \n",
      "16         0.004213      0.000145     ...                        0.000040   \n",
      "17         0.004213      0.000145     ...                        0.000040   \n",
      "18         0.004213      0.000145     ...                        0.000040   \n",
      "19         0.004213      0.000145     ...                        0.000040   \n",
      "20         0.004213      0.000145     ...                        0.000040   \n",
      "21         0.004213      0.000145     ...                        0.000040   \n",
      "22         0.004213      0.000145     ...                        0.000040   \n",
      "23         0.004213      0.000145     ...                        0.000040   \n",
      "24         0.004213      0.000145     ...                        0.000040   \n",
      "25         0.004213      0.000145     ...                        0.000040   \n",
      "26         0.004213      0.000145     ...                        0.000040   \n",
      "27         0.006741      0.000119     ...                        0.000022   \n",
      "28         0.004213      0.000145     ...                        0.000040   \n",
      "29         0.004213      0.000145     ...                        0.000040   \n",
      "...             ...           ...     ...                             ...   \n",
      "884232     0.003547      0.000281     ...                        0.000059   \n",
      "884233     0.003919      0.000305     ...                        0.000030   \n",
      "884234     0.003547      0.000281     ...                        0.000059   \n",
      "884235     0.003547      0.000281     ...                        0.000059   \n",
      "884236     0.003547      0.000281     ...                        0.000059   \n",
      "884237     0.003547      0.000281     ...                        0.000059   \n",
      "884238     0.003547      0.000281     ...                        0.000059   \n",
      "884239     0.003547      0.000281     ...                        0.000059   \n",
      "884240     0.003547      0.000281     ...                        0.000059   \n",
      "884241     0.003547      0.000281     ...                        0.000059   \n",
      "884242     0.003547      0.000281     ...                        0.000059   \n",
      "884243     0.003547      0.000281     ...                        0.000059   \n",
      "884244     0.003547      0.000281     ...                        0.000059   \n",
      "884245     0.003547      0.000281     ...                        0.000059   \n",
      "884246     0.003547      0.000281     ...                        0.000059   \n",
      "884247     0.003547      0.000281     ...                        0.000059   \n",
      "884248     0.003547      0.000281     ...                        0.000059   \n",
      "884249     0.003547      0.000281     ...                        0.000059   \n",
      "884250     0.003919      0.000305     ...                        0.000030   \n",
      "884251     0.003547      0.000281     ...                        0.000059   \n",
      "884252     0.003547      0.000281     ...                        0.000059   \n",
      "884253     0.003547      0.000281     ...                        0.000059   \n",
      "884254     0.003547      0.000281     ...                        0.000059   \n",
      "884255     0.003547      0.000281     ...                        0.000059   \n",
      "884256     0.003547      0.000281     ...                        0.000059   \n",
      "884257     0.003547      0.000281     ...                        0.000059   \n",
      "884258     0.003547      0.000281     ...                        0.000059   \n",
      "884259     0.003547      0.000281     ...                        0.000059   \n",
      "884260     0.003547      0.000281     ...                        0.000059   \n",
      "884261     0.003547      0.000281     ...                        0.000059   \n",
      "\n",
      "Id      STOLEN PROPERTY   SUICIDE  SUSPICIOUS OCC          TREA  TRESPASS  \\\n",
      "0              0.005121  0.000652        0.019425  3.305785e-07  0.001320   \n",
      "1              0.005121  0.000652        0.019425  3.305785e-07  0.001320   \n",
      "2              0.005121  0.000652        0.019425  3.305785e-07  0.001320   \n",
      "3              0.005121  0.000652        0.019425  3.305785e-07  0.001320   \n",
      "4              0.005121  0.000652        0.019425  3.305785e-07  0.001320   \n",
      "5              0.005121  0.000652        0.019425  3.305785e-07  0.001320   \n",
      "6              0.005121  0.000652        0.019425  3.305785e-07  0.001320   \n",
      "7              0.005121  0.000652        0.019425  3.305785e-07  0.001320   \n",
      "8              0.005121  0.000652        0.019425  3.305785e-07  0.001320   \n",
      "9              0.005121  0.000652        0.019425  3.305785e-07  0.001320   \n",
      "10             0.005121  0.000652        0.019425  3.305785e-07  0.001320   \n",
      "11             0.005121  0.000652        0.019425  3.305785e-07  0.001320   \n",
      "12             0.005121  0.000652        0.019425  3.305785e-07  0.001320   \n",
      "13             0.005121  0.000652        0.019425  3.305785e-07  0.001320   \n",
      "14             0.005121  0.000652        0.019425  3.305785e-07  0.001320   \n",
      "15             0.005121  0.000652        0.019425  3.305785e-07  0.001320   \n",
      "16             0.005121  0.000652        0.019425  3.305785e-07  0.001320   \n",
      "17             0.005121  0.000652        0.019425  3.305785e-07  0.001320   \n",
      "18             0.005121  0.000652        0.019425  3.305785e-07  0.001320   \n",
      "19             0.005121  0.000652        0.019425  3.305785e-07  0.001320   \n",
      "20             0.005121  0.000652        0.019425  3.305785e-07  0.001320   \n",
      "21             0.005121  0.000652        0.019425  3.305785e-07  0.001320   \n",
      "22             0.005121  0.000652        0.019425  3.305785e-07  0.001320   \n",
      "23             0.005121  0.000652        0.019425  3.305785e-07  0.001320   \n",
      "24             0.005121  0.000652        0.019425  3.305785e-07  0.001320   \n",
      "25             0.005121  0.000652        0.019425  3.305785e-07  0.001320   \n",
      "26             0.005121  0.000652        0.019425  3.305785e-07  0.001320   \n",
      "27             0.005414  0.000102        0.018465  0.000000e+00  0.001357   \n",
      "28             0.005121  0.000652        0.019425  3.305785e-07  0.001320   \n",
      "29             0.005121  0.000652        0.019425  3.305785e-07  0.001320   \n",
      "...                 ...       ...             ...           ...       ...   \n",
      "884232         0.005194  0.002050        0.025719  2.196397e-06  0.002462   \n",
      "884233         0.004805  0.001284        0.024611  2.196397e-06  0.003024   \n",
      "884234         0.005194  0.002050        0.025719  2.196397e-06  0.002462   \n",
      "884235         0.005194  0.002050        0.025719  2.196397e-06  0.002462   \n",
      "884236         0.005194  0.002050        0.025719  2.196397e-06  0.002462   \n",
      "884237         0.005194  0.002050        0.025719  2.196397e-06  0.002462   \n",
      "884238         0.005194  0.002050        0.025719  2.196397e-06  0.002462   \n",
      "884239         0.005194  0.002050        0.025719  2.196397e-06  0.002462   \n",
      "884240         0.005194  0.002050        0.025719  2.196397e-06  0.002462   \n",
      "884241         0.005194  0.002050        0.025719  2.196397e-06  0.002462   \n",
      "884242         0.005194  0.002050        0.025719  2.196397e-06  0.002462   \n",
      "884243         0.005194  0.002050        0.025719  2.196397e-06  0.002462   \n",
      "884244         0.005194  0.002050        0.025719  2.196397e-06  0.002462   \n",
      "884245         0.005194  0.002050        0.025719  2.196397e-06  0.002462   \n",
      "884246         0.005194  0.002050        0.025719  2.196397e-06  0.002462   \n",
      "884247         0.005194  0.002050        0.025719  2.196397e-06  0.002462   \n",
      "884248         0.005194  0.002050        0.025719  2.196397e-06  0.002462   \n",
      "884249         0.005194  0.002050        0.025719  2.196397e-06  0.002462   \n",
      "884250         0.004805  0.001284        0.024611  2.196397e-06  0.003024   \n",
      "884251         0.005194  0.002050        0.025719  2.196397e-06  0.002462   \n",
      "884252         0.005194  0.002050        0.025719  2.196397e-06  0.002462   \n",
      "884253         0.005194  0.002050        0.025719  2.196397e-06  0.002462   \n",
      "884254         0.005194  0.002050        0.025719  2.196397e-06  0.002462   \n",
      "884255         0.005194  0.002050        0.025719  2.196397e-06  0.002462   \n",
      "884256         0.005194  0.002050        0.025719  2.196397e-06  0.002462   \n",
      "884257         0.005194  0.002050        0.025719  2.196397e-06  0.002462   \n",
      "884258         0.005194  0.002050        0.025719  2.196397e-06  0.002462   \n",
      "884259         0.005194  0.002050        0.025719  2.196397e-06  0.002462   \n",
      "884260         0.005194  0.002050        0.025719  2.196397e-06  0.002462   \n",
      "884261         0.005194  0.002050        0.025719  2.196397e-06  0.002462   \n",
      "\n",
      "Id      VANDALISM  VEHICLE THEFT  WARRANTS  WEAPON LAWS  \n",
      "0        0.060972       0.087831  0.035111     0.006583  \n",
      "1        0.060972       0.087831  0.035111     0.006583  \n",
      "2        0.060972       0.087831  0.035111     0.006583  \n",
      "3        0.060972       0.087831  0.035111     0.006583  \n",
      "4        0.060972       0.087831  0.035111     0.006583  \n",
      "5        0.060972       0.087831  0.035111     0.006583  \n",
      "6        0.060972       0.087831  0.035111     0.006583  \n",
      "7        0.060972       0.087831  0.035111     0.006583  \n",
      "8        0.060972       0.087831  0.035111     0.006583  \n",
      "9        0.060972       0.087831  0.035111     0.006583  \n",
      "10       0.060972       0.087831  0.035111     0.006583  \n",
      "11       0.060972       0.087831  0.035111     0.006583  \n",
      "12       0.060972       0.087831  0.035111     0.006583  \n",
      "13       0.060972       0.087831  0.035111     0.006583  \n",
      "14       0.060972       0.087831  0.035111     0.006583  \n",
      "15       0.060972       0.087831  0.035111     0.006583  \n",
      "16       0.060972       0.087831  0.035111     0.006583  \n",
      "17       0.060972       0.087831  0.035111     0.006583  \n",
      "18       0.060972       0.087831  0.035111     0.006583  \n",
      "19       0.060972       0.087831  0.035111     0.006583  \n",
      "20       0.060972       0.087831  0.035111     0.006583  \n",
      "21       0.060972       0.087831  0.035111     0.006583  \n",
      "22       0.060972       0.087831  0.035111     0.006583  \n",
      "23       0.060972       0.087831  0.035111     0.006583  \n",
      "24       0.060972       0.087831  0.035111     0.006583  \n",
      "25       0.060972       0.087831  0.035111     0.006583  \n",
      "26       0.060972       0.087831  0.035111     0.006583  \n",
      "27       0.056009       0.065642  0.038154     0.009204  \n",
      "28       0.060972       0.087831  0.035111     0.006583  \n",
      "29       0.060972       0.087831  0.035111     0.006583  \n",
      "...           ...            ...       ...          ...  \n",
      "884232   0.049501       0.076352  0.035295     0.005706  \n",
      "884233   0.041353       0.058518  0.041203     0.006213  \n",
      "884234   0.049501       0.076352  0.035295     0.005706  \n",
      "884235   0.049501       0.076352  0.035295     0.005706  \n",
      "884236   0.049501       0.076352  0.035295     0.005706  \n",
      "884237   0.049501       0.076352  0.035295     0.005706  \n",
      "884238   0.049501       0.076352  0.035295     0.005706  \n",
      "884239   0.049501       0.076352  0.035295     0.005706  \n",
      "884240   0.049501       0.076352  0.035295     0.005706  \n",
      "884241   0.049501       0.076352  0.035295     0.005706  \n",
      "884242   0.049501       0.076352  0.035295     0.005706  \n",
      "884243   0.049501       0.076352  0.035295     0.005706  \n",
      "884244   0.049501       0.076352  0.035295     0.005706  \n",
      "884245   0.049501       0.076352  0.035295     0.005706  \n",
      "884246   0.049501       0.076352  0.035295     0.005706  \n",
      "884247   0.049501       0.076352  0.035295     0.005706  \n",
      "884248   0.049501       0.076352  0.035295     0.005706  \n",
      "884249   0.049501       0.076352  0.035295     0.005706  \n",
      "884250   0.041353       0.058518  0.041203     0.006213  \n",
      "884251   0.049501       0.076352  0.035295     0.005706  \n",
      "884252   0.049501       0.076352  0.035295     0.005706  \n",
      "884253   0.049501       0.076352  0.035295     0.005706  \n",
      "884254   0.049501       0.076352  0.035295     0.005706  \n",
      "884255   0.049501       0.076352  0.035295     0.005706  \n",
      "884256   0.049501       0.076352  0.035295     0.005706  \n",
      "884257   0.049501       0.076352  0.035295     0.005706  \n",
      "884258   0.049501       0.076352  0.035295     0.005706  \n",
      "884259   0.049501       0.076352  0.035295     0.005706  \n",
      "884260   0.049501       0.076352  0.035295     0.005706  \n",
      "884261   0.049501       0.076352  0.035295     0.005706  \n",
      "\n",
      "[884262 rows x 39 columns]\n"
     ]
    }
   ],
   "source": [
    "# Set up predictions for submission to Kaggle \n",
    "\n",
    "\n",
    "headers = [\"ARSON\",\"ASSAULT\",\"BAD CHECKS\",\"BRIBERY\",\"BURGLARY\",\"DISORDERLY CONDUCT\",\"DRIVING UNDER THE INFLUENCE\",\n",
    "           \"DRUG/NARCOTIC\",\"DRUNKENNESS\",\"EMBEZZLEMENT\",\"EXTORTION\",\"FAMILY OFFENSES\",\"FORGERY/COUNTERFEITING\",\n",
    "           \"FRAUD\",\"GAMBLING\",\"KIDNAPPING\",\"LARCENY/THEFT\",\"LIQUOR LAWS\",\"LOITERING\",\"MISSING PERSON\",\"NON-CRIMINAL\",\n",
    "           \"OTHER OFFENSES\",\"PORNOGRAPHY/OBSCENE MAT\",\"PROSTITUTION\",\"RECOVERED VEHICLE\",\"ROBBERY\",\"RUNAWAY\",\n",
    "           \"SECONDARY CODES\",\"SEX OFFENSES FORCIBLE\",\"SEX OFFENSES NON FORCIBLE\",\"STOLEN PROPERTY\",\"SUICIDE\",\n",
    "           \"SUSPICIOUS OCC\",\"TREA\",\"TRESPASS\",\"VANDALISM\",\"VEHICLE THEFT\",\"WARRANTS\",\"WEAPON LAWS\"]\n",
    "data = pd.DataFrame(data=pp, \n",
    "                    index=[x for x in range(len(test_data_all))], \n",
    "                    columns=headers)\n",
    "data.columns.name =\"Id\"\n",
    "print(data)"
   ]
  },
  {
   "cell_type": "markdown",
   "metadata": {},
   "source": [
    "Create zipped csv file for Kaggle\n",
    "#### Update the filename first in all lines of the following code\n",
    "Add something unique after our names to avoid overwriting other submission files"
   ]
  },
  {
   "cell_type": "code",
   "execution_count": 10,
   "metadata": {
    "collapsed": true
   },
   "outputs": [],
   "source": [
    "data.to_csv('Williams_Gascoigne_Vignola_RandomForest1.csv', index_label = \"Id\")"
   ]
  },
  {
   "cell_type": "code",
   "execution_count": 17,
   "metadata": {
    "collapsed": true
   },
   "outputs": [],
   "source": [
    "zip_probs = zipfile.ZipFile(\"Williams_Gascoigne_Vignola_RandomForest1.zip\", \"w\")\n",
    "zip_probs.write(\"Williams_Gascoigne_Vignola_RandomForest1.csv\", compress_type=zipfile.ZIP_DEFLATED)\n",
    "zip_probs.close()### Results from previous datasets and/or model parameters"
   ]
  },
  {
   "cell_type": "markdown",
   "metadata": {},
   "source": [
    "### Results from previous datasets and/or model parameters"
   ]
  },
  {
   "cell_type": "markdown",
   "metadata": {},
   "source": [
    "Random forest model on dataset as of 11/18 (weather added, binarized, normalized) with max_depth set to 15 and n_estimators set to 1000 returned log loss on development data of 2.404."
   ]
  }
 ],
 "metadata": {
  "kernelspec": {
   "display_name": "Python 3",
   "language": "python",
   "name": "python3"
  },
  "language_info": {
   "codemirror_mode": {
    "name": "ipython",
    "version": 3
   },
   "file_extension": ".py",
   "mimetype": "text/x-python",
   "name": "python",
   "nbconvert_exporter": "python",
   "pygments_lexer": "ipython3",
   "version": "3.6.1"
  }
 },
 "nbformat": 4,
 "nbformat_minor": 2
}
