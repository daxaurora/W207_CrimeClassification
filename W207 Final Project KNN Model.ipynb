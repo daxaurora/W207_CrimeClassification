{
 "cells": [
  {
   "cell_type": "markdown",
   "metadata": {},
   "source": [
    "This notebook trains a KNN model on 80% of the training data, finds the optimal value of k, and reports f1 score on the dev data."
   ]
  },
  {
   "cell_type": "code",
   "execution_count": 1,
   "metadata": {
    "collapsed": true
   },
   "outputs": [],
   "source": [
    "import numpy as np\n",
    "import pandas as pd\n",
    "import zipfile\n",
    "from sklearn.neighbors import KNeighborsClassifier\n",
    "from sklearn import metrics"
   ]
  },
  {
   "cell_type": "code",
   "execution_count": 2,
   "metadata": {
    "collapsed": true
   },
   "outputs": [],
   "source": [
    "# Unzip data files into the \"csv\" subdirectory\n",
    "\n",
    "# **IMPORTANT**  This will overwrite existing files in the \"csv\" folder in your local repo\n",
    "# with the most recent data files from the data.zip file\n",
    "\n",
    "unzip_files = zipfile.ZipFile(\"data.zip\", \"r\")\n",
    "unzip_files.extractall()\n",
    "unzip_files.close()"
   ]
  },
  {
   "cell_type": "code",
   "execution_count": 3,
   "metadata": {
    "collapsed": true
   },
   "outputs": [],
   "source": [
    "# Load csv files into pandas dataframes\n",
    "# train_data = pd.read_csv('../W207_CrimeClassification/csv/train_data.csv')\n",
    "# train_labels = pd.read_csv('../W207_CrimeClassification/csv/train_labels.csv')\n",
    "# dev_data = pd.read_csv('../W207_CrimeClassification/csv/dev_data.csv')\n",
    "# dev_labels = pd.read_csv('../W207_CrimeClassification/csv/dev_labels.csv')\n",
    "# train_data_all = pd.read_csv('../W207_CrimeClassification/csv/train_data_all.csv')\n",
    "# train_labels_all = pd.read_csv('../W207_CrimeClassification/csv/train_labels_all.csv')\n",
    "# test_data_all = pd.read_csv('../W207_CrimeClassification/csv/test_data_all.csv')\n",
    "\n",
    "# NOTE: this didn't work right, maybe because np.savetxt was used to create the csv files in the Data Set up notebook"
   ]
  },
  {
   "cell_type": "code",
   "execution_count": 4,
   "metadata": {
    "collapsed": true
   },
   "outputs": [],
   "source": [
    "# Load csv files into numpy arrays\n",
    "train_data = np.loadtxt('csv/train_data.csv', delimiter=\",\")\n",
    "train_labels = np.loadtxt('csv/train_labels.csv', dtype=str, delimiter=\",\")\n",
    "dev_data = np.loadtxt('csv/dev_data.csv', delimiter=\",\")\n",
    "dev_labels = np.loadtxt('csv/dev_labels.csv', dtype=str, delimiter=\",\")\n",
    "train_data_all = np.loadtxt('csv/train_data_all.csv', delimiter=\",\")\n",
    "train_labels_all = np.loadtxt('csv/train_labels_all.csv', dtype=str, delimiter=\",\")\n",
    "test_data_all = np.loadtxt('csv/test_data_all.csv', delimiter=\",\")"
   ]
  },
  {
   "cell_type": "code",
   "execution_count": 5,
   "metadata": {},
   "outputs": [
    {
     "name": "stdout",
     "output_type": "stream",
     "text": [
      "train_data shape is (702439, 6)\n",
      "train_labels shape is (702439,)\n",
      "dev_data shape is (175610, 6)\n",
      "dev_labels shape is (175610,)\n",
      "train_data_all shape is (878049, 6)\n",
      "train_data_all shape is (878049, 6)\n",
      "train_labels_all shape is (878049,)\n",
      "test_data_all shape is (884262, 6)\n"
     ]
    }
   ],
   "source": [
    "# print shapes to compare before and after csv conversion\n",
    "print(\"train_data shape is\", train_data.shape)\n",
    "print(\"train_labels shape is\", train_labels.shape)\n",
    "print(\"dev_data shape is\", dev_data.shape)\n",
    "print(\"dev_labels shape is\", dev_labels.shape)\n",
    "print(\"train_data_all shape is\", train_data_all.shape)\n",
    "print(\"train_data_all shape is\", train_data_all.shape)\n",
    "print(\"train_labels_all shape is\", train_labels_all.shape)\n",
    "print(\"test_data_all shape is\", test_data_all.shape)"
   ]
  },
  {
   "cell_type": "code",
   "execution_count": 39,
   "metadata": {},
   "outputs": [],
   "source": [
    "# Set up functions for training models and finding optimal value of k and reporting accuracy\n",
    "def TrainKNN(data, labels, k=5):\n",
    "    \"\"\"This function takes as input a set of matching training data and labels,\n",
    "    test data, and can accept different values of k. It trains a KNN model on the training data\n",
    "    and returns the model.\n",
    "    \n",
    "    This function does not require labels for the test data, so this model can be trained on either\n",
    "    the full set of training data, with predictions created from the test data from Kaggle OR\n",
    "    it can be run on our 80% training data with predictions created from the development data.\"\"\"\n",
    "    KNN = KNeighborsClassifier(n_neighbors=k, n_jobs = -1)\n",
    "    KNN.fit(data, labels)\n",
    "    return KNN\n",
    "\n",
    "def find_k(data, labels, dev_data, dev_labels, k_values):\n",
    "    \"\"\"Find optimal value of k.  Note that this cannot be used on test data from Kaggle \n",
    "    because we do not have labels for that data.  This function is intended to only be used\n",
    "    in the development stage with the development data.\"\"\"\n",
    "    for k in k_values:\n",
    "        \n",
    "        KNN = TrainKNN(data, labels, k)\n",
    "        predictions = KNN.predict(dev_data)\n",
    "        f1 = metrics.f1_score(dev_labels, predictions, average = \"weighted\")\n",
    "        headers = [\"ARSON\",\"ASSAULT\",\"BAD CHECKS\",\"BRIBERY\",\"BURGLARY\",\"DISORDERLY CONDUCT\",\"DRIVING UNDER THE INFLUENCE\",\"DRUG/NARCOTIC\",\"DRUNKENNESS\",\"EMBEZZLEMENT\",\"EXTORTION\",\"FAMILY OFFENSES\",\"FORGERY/COUNTERFEITING\",\"FRAUD\",\"GAMBLING\",\"KIDNAPPING\",\"LARCENY/THEFT\",\"LIQUOR LAWS\",\"LOITERING\",\"MISSING PERSON\",\"NON-CRIMINAL\",\"OTHER OFFENSES\",\"PORNOGRAPHY/OBSCENE MAT\",\"PROSTITUTION\",\"RECOVERED VEHICLE\",\"ROBBERY\",\"RUNAWAY\",\"SECONDARY CODES\",\"SEX OFFENSES FORCIBLE\",\"SEX OFFENSES NON FORCIBLE\",\"STOLEN PROPERTY\",\"SUICIDE\",\"SUSPICIOUS OCC\",\"TREA\",\"TRESPASS\",\"VANDALISM\",\"VEHICLE THEFT\",\"WARRANTS\",\"WEAPON LAWS\"]\n",
    "        pp = KNN.predict_proba(dev_data)\n",
    "        logloss = metrics.log_loss(dev_labels, pp, labels = headers)\n",
    "        \n",
    "        # Print accuracy and F1 score for each value of k\n",
    "        print(\"For k =\", k, \"the F1 score is\", round(f1, 4))\n",
    "        print(\"For k =\", k, \"the Log Loss score is\", round(logloss, 4))\n",
    "    print(\"\\n\")\n",
    "    "
   ]
  },
  {
   "cell_type": "code",
   "execution_count": 12,
   "metadata": {},
   "outputs": [],
   "source": [
    "neigh = KNeighborsClassifier(n_neighbors = 2, n_jobs = -1)\n",
    "neigh.fit(train_data, train_labels)\n",
    "pp = neigh.predict_proba(dev_data)"
   ]
  },
  {
   "cell_type": "code",
   "execution_count": 32,
   "metadata": {},
   "outputs": [
    {
     "name": "stdout",
     "output_type": "stream",
     "text": [
      "24.5542421915\n"
     ]
    }
   ],
   "source": [
    "headers = [\"ARSON\",\"ASSAULT\",\"BAD CHECKS\",\"BRIBERY\",\"BURGLARY\",\"DISORDERLY CONDUCT\",\"DRIVING UNDER THE INFLUENCE\",\"DRUG/NARCOTIC\",\"DRUNKENNESS\",\"EMBEZZLEMENT\",\"EXTORTION\",\"FAMILY OFFENSES\",\"FORGERY/COUNTERFEITING\",\"FRAUD\",\"GAMBLING\",\"KIDNAPPING\",\"LARCENY/THEFT\",\"LIQUOR LAWS\",\"LOITERING\",\"MISSING PERSON\",\"NON-CRIMINAL\",\"OTHER OFFENSES\",\"PORNOGRAPHY/OBSCENE MAT\",\"PROSTITUTION\",\"RECOVERED VEHICLE\",\"ROBBERY\",\"RUNAWAY\",\"SECONDARY CODES\",\"SEX OFFENSES FORCIBLE\",\"SEX OFFENSES NON FORCIBLE\",\"STOLEN PROPERTY\",\"SUICIDE\",\"SUSPICIOUS OCC\",\"TREA\",\"TRESPASS\",\"VANDALISM\",\"VEHICLE THEFT\",\"WARRANTS\",\"WEAPON LAWS\"]\n",
    "\n",
    "print(metrics.log_loss(dev_labels, pp, labels = headers))"
   ]
  },
  {
   "cell_type": "code",
   "execution_count": 40,
   "metadata": {},
   "outputs": [
    {
     "name": "stderr",
     "output_type": "stream",
     "text": [
      "C:\\Users\\Kippy\\Anaconda3\\lib\\site-packages\\sklearn\\metrics\\classification.py:1115: UndefinedMetricWarning: F-score is ill-defined and being set to 0.0 in labels with no true samples.\n",
      "  'recall', 'true', average, warn_for)\n"
     ]
    },
    {
     "name": "stdout",
     "output_type": "stream",
     "text": [
      "For k = 1 the F1 score is 0.2006\n",
      "For k = 1 the Log Loss score is 27.6013\n"
     ]
    },
    {
     "name": "stderr",
     "output_type": "stream",
     "text": [
      "C:\\Users\\Kippy\\Anaconda3\\lib\\site-packages\\sklearn\\metrics\\classification.py:1113: UndefinedMetricWarning: F-score is ill-defined and being set to 0.0 in labels with no predicted samples.\n",
      "  'precision', 'predicted', average, warn_for)\n"
     ]
    },
    {
     "name": "stdout",
     "output_type": "stream",
     "text": [
      "For k = 3 the F1 score is 0.1552\n",
      "For k = 3 the Log Loss score is 22.3636\n",
      "For k = 5 the F1 score is 0.154\n",
      "For k = 5 the Log Loss score is 19.0689\n",
      "For k = 7 the F1 score is 0.1533\n",
      "For k = 7 the Log Loss score is 16.6886\n",
      "For k = 9 the F1 score is 0.1526\n",
      "For k = 9 the Log Loss score is 14.8641\n",
      "For k = 11 the F1 score is 0.1515\n",
      "For k = 11 the Log Loss score is 13.3879\n",
      "For k = 15 the F1 score is 0.1492\n",
      "For k = 15 the Log Loss score is 11.2378\n",
      "\n",
      "\n"
     ]
    }
   ],
   "source": [
    "# Find the optimal value of k using the 80% training data and the development data\n",
    "k_values = [1, 3, 5, 7, 9, 11, 15]\n",
    "find_k(train_data, train_labels, dev_data, dev_labels, k_values)"
   ]
  },
  {
   "cell_type": "code",
   "execution_count": null,
   "metadata": {
    "collapsed": true
   },
   "outputs": [],
   "source": [
    "# Create zip file of predictions for submission to Kaggle \n",
    "\n",
    "# Not written for this model because this was our baseline\n",
    "# But this is where that zip file would be created in the workflow for other models"
   ]
  }
 ],
 "metadata": {
  "kernelspec": {
   "display_name": "Python 3",
   "language": "python",
   "name": "python3"
  },
  "language_info": {
   "codemirror_mode": {
    "name": "ipython",
    "version": 3
   },
   "file_extension": ".py",
   "mimetype": "text/x-python",
   "name": "python",
   "nbconvert_exporter": "python",
   "pygments_lexer": "ipython3",
   "version": "3.6.1"
  }
 },
 "nbformat": 4,
 "nbformat_minor": 2
}
